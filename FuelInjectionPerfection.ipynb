{
 "cells": [
  {
   "cell_type": "markdown",
   "metadata": {},
   "source": [
    "Given,\n",
    "* integer x and \n",
    "* operations add, sub, divide by 2 (only if the number is divisible by 2)\n",
    "\n",
    "Compute minimum steps as following\n",
    "* loop until number = 1: \n",
    "* * apply add sub divide \n",
    "* count number of minimum steps"
   ]
  },
  {
   "cell_type": "code",
   "execution_count": 11,
   "metadata": {},
   "outputs": [],
   "source": [
    "def FInject(n): \n",
    "    \n",
    "        #Initializing empty queue for BFS and list for storing already computed numbers\n",
    "        queue = [] \n",
    "        l = []\n",
    "\n",
    "        queue.append([n, 0]) \n",
    "\n",
    "        \n",
    "        #BFS to find shortest path\n",
    "        while(len(queue) > 0): \n",
    "            \n",
    "            for i in queue:\n",
    "                l.append(i[0])\n",
    "\n",
    "            t = queue[0] \n",
    "            queue.pop(0) \n",
    "\n",
    "            # if current value == 1\n",
    "            if(t[0] == 1): \n",
    "                print (type(t[1]))\n",
    "                return t[1] \n",
    "\n",
    "            # else continue for all possible operations\n",
    "            else:\n",
    "                if t[0]%2 != 0 and t[0]+1 not in l and t[0]-1 not in l:\n",
    "                    queue.append([t[0]+1,t[1]+1])\n",
    "                    queue.append([t[0]-1,t[1]+1])\n",
    "                elif t[0]%2 == 0 and t[0]//2 not in l:\n",
    "                    queue.append([t[0]//2,t[1]+1])\n",
    "\n"
   ]
  },
  {
   "cell_type": "code",
   "execution_count": 12,
   "metadata": {},
   "outputs": [
    {
     "name": "stdout",
     "output_type": "stream",
     "text": [
      "<class 'int'>\n",
      "5\n"
     ]
    }
   ],
   "source": [
    "print(FInject(15))"
   ]
  },
  {
   "cell_type": "code",
   "execution_count": 7,
   "metadata": {},
   "outputs": [
    {
     "name": "stdout",
     "output_type": "stream",
     "text": [
      "2\n"
     ]
    }
   ],
   "source": [
    "print(FInject(4))"
   ]
  },
  {
   "cell_type": "code",
   "execution_count": 8,
   "metadata": {},
   "outputs": [
    {
     "name": "stdout",
     "output_type": "stream",
     "text": [
      "3\n"
     ]
    }
   ],
   "source": [
    "print(FInject(6))"
   ]
  },
  {
   "cell_type": "code",
   "execution_count": 10,
   "metadata": {},
   "outputs": [
    {
     "name": "stdout",
     "output_type": "stream",
     "text": [
      "21\n"
     ]
    }
   ],
   "source": [
    "print(FInject(66354))"
   ]
  },
  {
   "cell_type": "code",
   "execution_count": null,
   "metadata": {},
   "outputs": [],
   "source": []
  }
 ],
 "metadata": {
  "kernelspec": {
   "display_name": "Python 3",
   "language": "python",
   "name": "python3"
  },
  "language_info": {
   "codemirror_mode": {
    "name": "ipython",
    "version": 3
   },
   "file_extension": ".py",
   "mimetype": "text/x-python",
   "name": "python",
   "nbconvert_exporter": "python",
   "pygments_lexer": "ipython3",
   "version": "3.7.6"
  }
 },
 "nbformat": 4,
 "nbformat_minor": 4
}
