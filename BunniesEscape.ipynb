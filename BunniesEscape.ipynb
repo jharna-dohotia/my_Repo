{
 "cells": [
  {
   "cell_type": "code",
   "execution_count": 152,
   "metadata": {},
   "outputs": [],
   "source": [
    "maze = [[0,0,0,0,0,0],[1,1,1,1,1,0],[0,0,0,0,0,0],[0,1,1,1,1,1],[0,1,1,1,1,0],[0,0,0,0,0,0]]\n",
    "maze2 = [[0,1,1,0],[0,0,0,1],[1,1,0,0],[1,1,1,0]]"
   ]
  },
  {
   "cell_type": "code",
   "execution_count": 153,
   "metadata": {},
   "outputs": [
    {
     "name": "stdout",
     "output_type": "stream",
     "text": [
      "[0, 0, 0, 0, 0, 0]\n",
      "[1, 1, 1, 1, 1, 0]\n",
      "[0, 0, 0, 0, 0, 0]\n",
      "[0, 1, 1, 1, 1, 1]\n",
      "[0, 1, 1, 1, 1, 0]\n",
      "[0, 0, 0, 0, 0, 0]\n"
     ]
    }
   ],
   "source": [
    "for i in maze:\n",
    "    print (i)"
   ]
  },
  {
   "cell_type": "code",
   "execution_count": 64,
   "metadata": {},
   "outputs": [],
   "source": [
    "def solution(maze):\n",
    "    c = len(maze[0])\n",
    "    r = len(maze)\n",
    "   \n",
    "    res = []\n",
    "    s = [0,0]\n",
    "    d = [r-1,c-1]\n",
    "    \n",
    "    def valid(x,y,r,c):\n",
    "            if (x >= 0 and x < r and y >= 0 and y < c): \n",
    "                return True\n",
    "            return False\n",
    "    \n",
    "    def escape(maze,s,d,r,c): \n",
    "\n",
    "        #Initializing possible moves\n",
    "        dx = [0,0,1,-1]\n",
    "        dy = [1,-1,0,0] \n",
    "\n",
    "        #Initializing empty queue and visited matrix\n",
    "        queue = [] \n",
    "        visited = [[False for i in range(0,c)]  \n",
    "                          for j in range(0,r)] \n",
    "\n",
    "        #print(visited)\n",
    "                   \n",
    "        for i in range(0,r):\n",
    "            for j in range(0,c):\n",
    "                if maze[i][j] == 1:\n",
    "                    visited[i][j] = True\n",
    "        \n",
    "        #Start escape\n",
    "        queue.append([s[0], s[1], 1]) \n",
    "        visited[s[0]][s[1]] = True\n",
    "        \n",
    "\n",
    "\n",
    "        #BFS to find shortest path\n",
    "        while(len(queue) > 0): \n",
    "\n",
    "            t = queue[0] \n",
    "            queue.pop(0) \n",
    "\n",
    "            # if current square is equal to target square\n",
    "            # return distance \n",
    "            if(t[0] == d[0] and \n",
    "               t[1] == d[1]): \n",
    "                return t[2] \n",
    "\n",
    "            # else iterate for all possible moves \n",
    "            for i in range(0,3): \n",
    "\n",
    "                x = t[0] + dx[i] \n",
    "                y = t[1] + dy[i]\n",
    "                if(valid(x, y, r, c) and not visited[x][y]): \n",
    "                    visited[x][y] = True\n",
    "                    queue.append([x, y, t[2] + 1])\n",
    "    \n",
    "    res = escape(maze,s,d,r,c)\n",
    "    n = []\n",
    "    if res != None:\n",
    "        n.append(res)\n",
    "        \n",
    "    maze1 = maze\n",
    "    \n",
    "    for i in range(r-1):\n",
    "        for j in range(c):\n",
    "            maze1 = maze\n",
    "            if maze1[i][j]==1:\n",
    "                maze1[i][j]=0\n",
    "                #print(maze1)\n",
    "                res = escape(maze1,s,d,r,c)\n",
    "                #print(\"res =\"+str(res))\n",
    "                if res != None:\n",
    "                    n.append(res)\n",
    "                maze1[i][j]=1\n",
    "    \n",
    "    \n",
    "    #print(n)\n",
    "    sol = min(n)\n",
    "    return sol"
   ]
  },
  {
   "cell_type": "code",
   "execution_count": 72,
   "metadata": {},
   "outputs": [
    {
     "name": "stdout",
     "output_type": "stream",
     "text": [
      "11\n"
     ]
    }
   ],
   "source": [
    "\n",
    "#maze = [[0, 0, 0, 0, 0, 0],[1, 1, 1, 1, 1, 0],[1, 1, 1, 1, 1, 1],[0, 0, 0, 0, 0, 0],[0, 1, 1, 1, 1, 1],[0, 0, 0, 0, 0, 0]] #Answer 21\n",
    "#maze = [[0, 1, 1, 0], [0, 0, 0, 1], [1, 1, 0, 0], [1, 1, 1, 0]] #Answer 7\n",
    "#maze = [[0,1,0,0,0],[0,0,0,1,0],[1,1,1,1,0]] #Answer 7\n",
    "#maze = [[0,1,1,1],[0,1,0,0],[1,0,1,0],[1,1,0,0]] #Answer 7\n",
    "#maze = [[0, 0, 0, 0, 0, 0], [1, 1, 1, 1, 1, 0], [0, 0, 0, 0, 0, 0], [0, 1, 1, 1, 1, 1], [0, 1, 1, 1, 1, 1], [0, 0, 0, 0, 0, 0]] #Answer 11\n",
    "#maze = [[0, 0, 0, 0, 0, 0],[0, 1, 1, 1, 1, 1], [0, 1, 1, 1, 1, 1], [0, 1, 1, 1, 1, 1], [0, 1, 1, 1, 1, 1],[0, 0, 0, 0, 0, 0]] #Answer 11\n",
    "print (solution(maze))"
   ]
  },
  {
   "cell_type": "code",
   "execution_count": 102,
   "metadata": {},
   "outputs": [],
   "source": [
    "def answer(maze):\n",
    "    \n",
    "    def escape(x0, y0, maze):\n",
    "        c = len(maze[0])\n",
    "        r = len(maze)\n",
    "        board = [[None for i in range(c)] for i in range(r)]\n",
    "        board[x0][y0] = 1\n",
    "\n",
    "        queue = [[x0, y0]]\n",
    "        #Initializing possible moves\n",
    "        dx = [0,0,1,-1]\n",
    "        dy = [1,-1,0,0]\n",
    "        \n",
    "        while queue:\n",
    "            t = queue.pop(0)\n",
    "            \n",
    "            for i in range(len(dx)):\n",
    "                x, y = t[0] + dx[i], t[1] + dy[i]\n",
    "                if 0 <= x < r and 0 <= y < c:\n",
    "                    if board[x][y] is None:\n",
    "                        board[x][y] = board[t[0]][t[1]] + 1\n",
    "                        if maze[x][y] == 1 :\n",
    "                            continue\n",
    "                        queue.append([x, y])               \n",
    "        return board\n",
    "\n",
    "    w = len(maze[0])\n",
    "    h = len(maze)\n",
    "    tb = escape(0, 0, maze)\n",
    "    bt = escape(h-1, w-1, maze)\n",
    "\n",
    "    \n",
    "    board = []\n",
    "\n",
    "    ans = 2 ** 32-1\n",
    "    for i in range(h):\n",
    "        for j in range(w):\n",
    "            if tb[i][j] and bt[i][j]:\n",
    "                ans = min(tb[i][j] + bt[i][j] - 1, ans)\n",
    "                #print(ans)\n",
    "    return ans\n",
    "\n"
   ]
  },
  {
   "cell_type": "code",
   "execution_count": 103,
   "metadata": {},
   "outputs": [
    {
     "name": "stdout",
     "output_type": "stream",
     "text": [
      "21\n"
     ]
    }
   ],
   "source": [
    "\n",
    "maze = [[0, 0, 0, 0, 0, 0],[1, 1, 1, 1, 1, 0],[1, 1, 1, 1, 1, 1],[0, 0, 0, 0, 0, 0],[0, 1, 1, 1, 1, 1],[0, 0, 0, 0, 0, 0]] #Answer 21\n",
    "#maze = [[0, 1, 1, 0], [0, 0, 0, 1], [1, 1, 0, 0], [1, 1, 1, 0]] #Answer 7\n",
    "#maze = [[0,1,0,0,0],[0,0,0,1,0],[1,1,1,1,0]] #Answer 7\n",
    "#maze = [[0,1,1,1],[0,1,0,0],[1,0,1,0],[1,1,0,0]] #Answer 7\n",
    "#maze = [[0, 0, 0, 0, 0, 0], [1, 1, 1, 1, 1, 0], [0, 0, 0, 0, 0, 0], [0, 1, 1, 1, 1, 1], [0, 1, 1, 1, 1, 1], [0, 0, 0, 0, 0, 0]] #Answer 11\n",
    "print (answer(maze))"
   ]
  },
  {
   "cell_type": "code",
   "execution_count": null,
   "metadata": {},
   "outputs": [],
   "source": []
  }
 ],
 "metadata": {
  "kernelspec": {
   "display_name": "Python 3",
   "language": "python",
   "name": "python3"
  },
  "language_info": {
   "codemirror_mode": {
    "name": "ipython",
    "version": 3
   },
   "file_extension": ".py",
   "mimetype": "text/x-python",
   "name": "python",
   "nbconvert_exporter": "python",
   "pygments_lexer": "ipython3",
   "version": "3.7.6"
  }
 },
 "nbformat": 4,
 "nbformat_minor": 4
}
