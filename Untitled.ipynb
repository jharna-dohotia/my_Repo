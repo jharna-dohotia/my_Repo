{
 "cells": [
  {
   "cell_type": "code",
   "execution_count": 176,
   "metadata": {},
   "outputs": [],
   "source": [
    "def sol(data, n): \n",
    "    # Your code here\n",
    "    for i in data:\n",
    "        if data.count(i) > n:\n",
    "            data = list(filter((i).__ne__,data))\n",
    "   \n",
    "    return data"
   ]
  },
  {
   "cell_type": "code",
   "execution_count": 177,
   "metadata": {},
   "outputs": [
    {
     "name": "stdout",
     "output_type": "stream",
     "text": [
      "[5, 15, 7]\n"
     ]
    }
   ],
   "source": [
    "print(sol([5,10,15,10,7],1))"
   ]
  },
  {
   "cell_type": "code",
   "execution_count": 178,
   "metadata": {},
   "outputs": [
    {
     "name": "stdout",
     "output_type": "stream",
     "text": [
      "[1, 4]\n"
     ]
    }
   ],
   "source": [
    "print(sol([1,2,2,3,3,3,4,5,5],1))"
   ]
  },
  {
   "cell_type": "code",
   "execution_count": 182,
   "metadata": {},
   "outputs": [
    {
     "name": "stdout",
     "output_type": "stream",
     "text": [
      "[1, 4, 5, 6, 6, 7]\n"
     ]
    }
   ],
   "source": [
    "print(sol([1,2,2,2,3,3,3,4,5,6,6,7],2))"
   ]
  },
  {
   "cell_type": "code",
   "execution_count": 180,
   "metadata": {},
   "outputs": [
    {
     "name": "stdout",
     "output_type": "stream",
     "text": [
      "[]\n"
     ]
    }
   ],
   "source": [
    "print(sol([1,2,3],0))"
   ]
  },
  {
   "cell_type": "code",
   "execution_count": 241,
   "metadata": {},
   "outputs": [],
   "source": []
  },
  {
   "cell_type": "code",
   "execution_count": 261,
   "metadata": {},
   "outputs": [],
   "source": [
    "el = [\"1.0.0\",\"1.0\",\"1\", \"1.0.1\" ,\"1.1\", \"2.0.3\", \"1.2\", \"2.1\"]\n",
    "m = 1\n",
    "n = len(el)\n",
    "for i in range(n):\n",
    "    el[i] = el[i].split('.')"
   ]
  },
  {
   "cell_type": "code",
   "execution_count": 262,
   "metadata": {},
   "outputs": [
    {
     "data": {
      "text/plain": [
       "[['1', '0', '0'],\n",
       " ['1', '0'],\n",
       " ['1'],\n",
       " ['1', '0', '1'],\n",
       " ['1', '1'],\n",
       " ['2', '0', '3'],\n",
       " ['1', '2'],\n",
       " ['2', '1']]"
      ]
     },
     "execution_count": 262,
     "metadata": {},
     "output_type": "execute_result"
    }
   ],
   "source": [
    "el"
   ]
  },
  {
   "cell_type": "code",
   "execution_count": null,
   "metadata": {},
   "outputs": [],
   "source": []
  },
  {
   "cell_type": "code",
   "execution_count": 491,
   "metadata": {},
   "outputs": [],
   "source": [
    "el = [\"1.0.0\",\"1.0\",\"1\", \"1.0.1\" ,\"1.1\", \"2.0.3\", \"1.2\", \"2.1\"]\n",
    "el.sort(key = lambda x: list(map(int, x.split(\".\"))))"
   ]
  },
  {
   "cell_type": "code",
   "execution_count": 492,
   "metadata": {},
   "outputs": [],
   "source": [
    "el.sort(key = lambda x: list(map(int, x.split(\".\"))))"
   ]
  },
  {
   "cell_type": "code",
   "execution_count": 352,
   "metadata": {},
   "outputs": [],
   "source": [
    "def repeatedString(s, n):\n",
    "    s = list(map(list,s))\n",
    "    count = s.count(['a'])\n",
    "    print (count)\n",
    "    \n",
    "    res = n//len(s)*count + s[:(n%len(s))].count(['a'])\n",
    "    \n",
    "    return res"
   ]
  },
  {
   "cell_type": "code",
   "execution_count": 353,
   "metadata": {},
   "outputs": [
    {
     "name": "stdout",
     "output_type": "stream",
     "text": [
      "1\n",
      "4\n"
     ]
    }
   ],
   "source": [
    "print (repeatedString('abc', 10))"
   ]
  },
  {
   "cell_type": "code",
   "execution_count": 409,
   "metadata": {},
   "outputs": [
    {
     "name": "stdout",
     "output_type": "stream",
     "text": [
      "[2, 2, 3, 3, 4] 6 3 6 1\n",
      "[2, 3, 3, 4, 6] 8 3 6 2\n",
      "[3, 3, 4, 6, 8] 4 4 8 2\n",
      "[3, 4, 4, 6, 8] 5 4 8 2\n",
      "2\n"
     ]
    }
   ],
   "source": [
    "import bisect\n",
    "\n",
    "expenditure = [2, 3, 4, 2, 3, 6, 8, 4, 5]\n",
    "n = len(expenditure)\n",
    "d = 5\n",
    "ntf = 0\n",
    "s = sorted(expenditure[0:d])\n",
    "\n",
    "for i in range(d,n):\n",
    "        \n",
    "        med = s[((len(s)//2 +1) + len(s)//2)//2]\n",
    "        if expenditure[i] >= 2*med:\n",
    "            ntf += 1\n",
    "        print(s,expenditure[i],med,med*2,ntf)\n",
    "        bisect.insort(s,expenditure[i],1,len(s))\n",
    "        s.pop(0)\n",
    "print(ntf)"
   ]
  },
  {
   "cell_type": "code",
   "execution_count": null,
   "metadata": {},
   "outputs": [],
   "source": [
    "from sys import stdin\n",
    "import re\n",
    "n = input()\n",
    "Driver Code:\n",
    "print(re.sub( r\"(?<= )(&&|\\|\\|)(?= )\", lambda x: \"and\" if x.group()==\"&&\" else \"or\", stdin.read()))"
   ]
  },
  {
   "cell_type": "code",
   "execution_count": 4,
   "metadata": {},
   "outputs": [],
   "source": [
    "n = [i for i in range(100)]"
   ]
  },
  {
   "cell_type": "code",
   "execution_count": 5,
   "metadata": {},
   "outputs": [
    {
     "data": {
      "text/plain": [
       "[0,\n",
       " 1,\n",
       " 2,\n",
       " 3,\n",
       " 4,\n",
       " 5,\n",
       " 6,\n",
       " 7,\n",
       " 8,\n",
       " 9,\n",
       " 10,\n",
       " 11,\n",
       " 12,\n",
       " 13,\n",
       " 14,\n",
       " 15,\n",
       " 16,\n",
       " 17,\n",
       " 18,\n",
       " 19,\n",
       " 20,\n",
       " 21,\n",
       " 22,\n",
       " 23,\n",
       " 24,\n",
       " 25,\n",
       " 26,\n",
       " 27,\n",
       " 28,\n",
       " 29,\n",
       " 30,\n",
       " 31,\n",
       " 32,\n",
       " 33,\n",
       " 34,\n",
       " 35,\n",
       " 36,\n",
       " 37,\n",
       " 38,\n",
       " 39,\n",
       " 40,\n",
       " 41,\n",
       " 42,\n",
       " 43,\n",
       " 44,\n",
       " 45,\n",
       " 46,\n",
       " 47,\n",
       " 48,\n",
       " 49,\n",
       " 50,\n",
       " 51,\n",
       " 52,\n",
       " 53,\n",
       " 54,\n",
       " 55,\n",
       " 56,\n",
       " 57,\n",
       " 58,\n",
       " 59,\n",
       " 60,\n",
       " 61,\n",
       " 62,\n",
       " 63,\n",
       " 64,\n",
       " 65,\n",
       " 66,\n",
       " 67,\n",
       " 68,\n",
       " 69,\n",
       " 70,\n",
       " 71,\n",
       " 72,\n",
       " 73,\n",
       " 74,\n",
       " 75,\n",
       " 76,\n",
       " 77,\n",
       " 78,\n",
       " 79,\n",
       " 80,\n",
       " 81,\n",
       " 82,\n",
       " 83,\n",
       " 84,\n",
       " 85,\n",
       " 86,\n",
       " 87,\n",
       " 88,\n",
       " 89,\n",
       " 90,\n",
       " 91,\n",
       " 92,\n",
       " 93,\n",
       " 94,\n",
       " 95,\n",
       " 96,\n",
       " 97,\n",
       " 98,\n",
       " 99]"
      ]
     },
     "execution_count": 5,
     "metadata": {},
     "output_type": "execute_result"
    }
   ],
   "source": [
    "n"
   ]
  },
  {
   "cell_type": "code",
   "execution_count": 11,
   "metadata": {},
   "outputs": [
    {
     "name": "stdout",
     "output_type": "stream",
     "text": [
      "0\n",
      "1\n",
      "2\n",
      "3\n",
      "4\n"
     ]
    }
   ],
   "source": [
    "for i in range(5):\n",
    "    print (i)"
   ]
  },
  {
   "cell_type": "code",
   "execution_count": 59,
   "metadata": {},
   "outputs": [],
   "source": [
    "def numberOfPaths (n, m):\n",
    "        \n",
    "        # code here\n",
    "        # Create a 2D table to store \n",
    "        # results of subproblems \n",
    "        count = [[0 for x in range(m)] for y in range(n)] \n",
    "        print(count)\n",
    "        # Count of paths to reach any  \n",
    "        # cell in first column is 1 \n",
    "        for i in range(n): \n",
    "            count[i][0] = 1;\n",
    "        \n",
    "        # Count of paths to reach any  \n",
    "        # cell in first column is 1 \n",
    "        for j in range(m): \n",
    "            count[0][j] = 1; \n",
    "\n",
    "        \n",
    "        # Calculate count of paths for other \n",
    "        # cells in bottom-up  \n",
    "        # manner using the recursive solution \n",
    "        for i in range(1, n): \n",
    "            for j in range(1, m):              \n",
    "                count[i][j] = count[i-1][j] + count[i][j-1] \n",
    "    \n",
    "        return count[n-1][m-1] "
   ]
  },
  {
   "cell_type": "code",
   "execution_count": 60,
   "metadata": {},
   "outputs": [
    {
     "name": "stdout",
     "output_type": "stream",
     "text": [
      "[[0, 0, 0], [0, 0, 0]]\n",
      "--------------------------------\n",
      "[[1, 0, 0], [1, 0, 0]]\n",
      "--------------------------------\n",
      "[[1, 1, 1], [1, 0, 0]]\n",
      "--------------------------------\n",
      "[[1, 1, 1], [1, 2, 3]]\n",
      "3\n",
      "3\n"
     ]
    }
   ],
   "source": [
    "print(numberOfPaths(2,3))"
   ]
  },
  {
   "cell_type": "code",
   "execution_count": 61,
   "metadata": {},
   "outputs": [
    {
     "name": "stdout",
     "output_type": "stream",
     "text": [
      "[[0, 0, 0], [0, 0, 0]]\n"
     ]
    }
   ],
   "source": [
    "r = 2\n",
    "c = 3\n",
    "\n",
    "mat = [[0 for x in range(c)] for y in range(r)]\n",
    "print(mat)"
   ]
  },
  {
   "cell_type": "code",
   "execution_count": null,
   "metadata": {},
   "outputs": [],
   "source": []
  }
 ],
 "metadata": {
  "kernelspec": {
   "display_name": "Python 3",
   "language": "python",
   "name": "python3"
  },
  "language_info": {
   "codemirror_mode": {
    "name": "ipython",
    "version": 3
   },
   "file_extension": ".py",
   "mimetype": "text/x-python",
   "name": "python",
   "nbconvert_exporter": "python",
   "pygments_lexer": "ipython3",
   "version": "3.7.6"
  }
 },
 "nbformat": 4,
 "nbformat_minor": 4
}
