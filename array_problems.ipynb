{
 "cells": [
  {
   "cell_type": "markdown",
   "metadata": {},
   "source": [
    "## Array Questions"
   ]
  },
  {
   "cell_type": "markdown",
   "metadata": {},
   "source": [
    "**Maximum SubArray Sum where maxm = max amongst the (sum of each subarray % m)**"
   ]
  },
  {
   "cell_type": "code",
   "execution_count": null,
   "metadata": {},
   "outputs": [],
   "source": [
    "import itertools\n",
    "\n",
    "#Using Brute Force\n",
    "def maximumSum(a, m):\n",
    "    sub = []\n",
    "    maxm = 0\n",
    "    \n",
    "    for i in range(0, len(a) + 1):  # to get all lengths: 0 to 3\n",
    "        for subset in itertools.combinations(a, i):\n",
    "            sub.append(list(subset))\n",
    "    \n",
    "    print(sub)\n",
    "    \n",
    "    for i in sub:\n",
    "        if sum(i)%m >= maxm:\n",
    "            maxm = sum(i)%m\n",
    "    \n",
    "    return (maxm)"
   ]
  },
  {
   "cell_type": "code",
   "execution_count": null,
   "metadata": {},
   "outputs": [],
   "source": [
    "print(maximumSum([3,3,9,9,5],7))"
   ]
  },
  {
   "cell_type": "markdown",
   "metadata": {},
   "source": [
    "## 3Sum"
   ]
  },
  {
   "cell_type": "markdown",
   "metadata": {},
   "source": [
    "Find the subsets of length 3 where the sum of values in the subset = 0"
   ]
  },
  {
   "cell_type": "code",
   "execution_count": 11,
   "metadata": {},
   "outputs": [],
   "source": [
    "class Solution:\n",
    "    def threeSum(self, nums):\n",
    "        res = []\n",
    "        nums.sort()\n",
    "        \n",
    "        for i, a in enumerate(nums):\n",
    "            if i > 0 and a == nums[i - 1]:\n",
    "                continue\n",
    "            \n",
    "            l, r = i + 1, len(nums) - 1\n",
    "            while l < r:\n",
    "                threeSum = a + nums[l] + nums[r]\n",
    "                if threeSum > 0:\n",
    "                    r -= 1\n",
    "                elif threeSum < 0:\n",
    "                    l += 1\n",
    "                else:\n",
    "                    res.append([a, nums[l], nums[r]])\n",
    "                    l += 1\n",
    "                    while nums[l] == nums[l - 1] and l < r:\n",
    "                        l += 1\n",
    "        return res"
   ]
  },
  {
   "cell_type": "code",
   "execution_count": 12,
   "metadata": {},
   "outputs": [
    {
     "name": "stdout",
     "output_type": "stream",
     "text": [
      "0 -1\n",
      "1 0\n",
      "2 1\n",
      "3 2\n",
      "4 -1\n",
      "5 4\n"
     ]
    }
   ],
   "source": [
    "nums = [-1,0,1,2,-1,4]\n",
    "for i, a in enumerate(nums):\n",
    "            print (i,a)"
   ]
  },
  {
   "cell_type": "code",
   "execution_count": 13,
   "metadata": {},
   "outputs": [],
   "source": [
    "res = Solution.threeSum(1,nums)"
   ]
  },
  {
   "cell_type": "code",
   "execution_count": 14,
   "metadata": {},
   "outputs": [
    {
     "name": "stdout",
     "output_type": "stream",
     "text": [
      "[[-1, -1, 2], [-1, 0, 1]]\n"
     ]
    }
   ],
   "source": [
    "print(res)"
   ]
  },
  {
   "cell_type": "markdown",
   "metadata": {},
   "source": [
    "## Zeroes"
   ]
  },
  {
   "cell_type": "markdown",
   "metadata": {},
   "source": [
    "Given a maxtrix M, convert row i,column j into all zeroes if M(i,j) = 0"
   ]
  },
  {
   "cell_type": "code",
   "execution_count": 15,
   "metadata": {},
   "outputs": [],
   "source": [
    "matrix = [[0,1,2,0],[3,4,5,2],[1,3,1,5]]"
   ]
  },
  {
   "cell_type": "code",
   "execution_count": 16,
   "metadata": {},
   "outputs": [],
   "source": [
    "rows, cols = len(matrix), len(matrix[0])\n",
    "indices = []\n",
    "for row in range(rows):\n",
    "    for col in range(cols):\n",
    "        if matrix[row][col] == 0:\n",
    "            indices.append((row, col))\n",
    "\n",
    "for row, col in indices:\n",
    "    matrix[row] = [0] * cols\n",
    "\n",
    "for _, col in indices:\n",
    "    for row in range(rows):\n",
    "        matrix[row][col] = 0  \n",
    "            "
   ]
  },
  {
   "cell_type": "code",
   "execution_count": 17,
   "metadata": {},
   "outputs": [
    {
     "name": "stdout",
     "output_type": "stream",
     "text": [
      "[[0, 0, 0, 0], [0, 4, 5, 0], [0, 3, 1, 0]]\n"
     ]
    }
   ],
   "source": [
    "print(matrix)"
   ]
  },
  {
   "cell_type": "markdown",
   "metadata": {},
   "source": [
    "## Filter duplicates\n",
    "\n",
    "Remove a number from a given list 'data' entirely if count(number) > given number 'n'"
   ]
  },
  {
   "cell_type": "code",
   "execution_count": 27,
   "metadata": {},
   "outputs": [],
   "source": [
    "def filter_num(data, n): \n",
    "    # Your code here\n",
    "    nums = []\n",
    "    for i in data:\n",
    "        if data.count(i) > n:\n",
    "            nums.append(i)\n",
    "    for i in nums:\n",
    "         data = list(filter((i).__ne__,data))\n",
    "   \n",
    "    return data"
   ]
  },
  {
   "cell_type": "code",
   "execution_count": 28,
   "metadata": {},
   "outputs": [],
   "source": [
    "##Driver Codes:"
   ]
  },
  {
   "cell_type": "code",
   "execution_count": 29,
   "metadata": {},
   "outputs": [
    {
     "name": "stdout",
     "output_type": "stream",
     "text": [
      "[1, 4, 5, 7]\n"
     ]
    }
   ],
   "source": [
    "print(filter_num([1,2,2,3,3,3,4,5,6,6,7],1))"
   ]
  },
  {
   "cell_type": "code",
   "execution_count": 30,
   "metadata": {},
   "outputs": [
    {
     "name": "stdout",
     "output_type": "stream",
     "text": [
      "[1, 4]\n"
     ]
    }
   ],
   "source": [
    "print(filter_num([1,2,2,3,3,3,4,5,5,6,6],1))"
   ]
  },
  {
   "cell_type": "code",
   "execution_count": 31,
   "metadata": {},
   "outputs": [
    {
     "name": "stdout",
     "output_type": "stream",
     "text": [
      "[5, 15, 7]\n"
     ]
    }
   ],
   "source": [
    "print(filter_num([5,10,15,10,7],1))"
   ]
  },
  {
   "cell_type": "markdown",
   "metadata": {},
   "source": [
    "## Triples:\n",
    "Given unsorted array, l\n",
    "if i<j<k and there exists a triple such that l[i]<l[j]<l[k], return true else return falsem"
   ]
  },
  {
   "cell_type": "code",
   "execution_count": 32,
   "metadata": {},
   "outputs": [],
   "source": [
    "def triplet(nums):\n",
    "        pairs = [0]*len(nums)\n",
    "    \n",
    "        for i in range(1, len(nums)):\n",
    "            for j in range(i):\n",
    "                if nums[i]-nums[j]>0:\n",
    "                    pairs[i] = 1\n",
    "        \n",
    "        print(pairs)\n",
    "\n",
    "        for i in range(2,len(nums)):\n",
    "            for j in range(1,i):\n",
    "                \n",
    "                print(nums[j],nums[i])\n",
    "                if nums[i]-nums[j]>0 and pairs[j] == 1:\n",
    "                    return True\n",
    "            \n",
    "        \n",
    "        return False\n",
    "                "
   ]
  },
  {
   "cell_type": "code",
   "execution_count": 33,
   "metadata": {},
   "outputs": [
    {
     "name": "stdout",
     "output_type": "stream",
     "text": [
      "[0, 0, 0, 0, 0]\n",
      "4 3\n",
      "4 2\n",
      "3 2\n",
      "4 1\n",
      "3 1\n",
      "2 1\n",
      "False\n"
     ]
    }
   ],
   "source": [
    "print(triplet([5,4,3,2,1]))"
   ]
  },
  {
   "cell_type": "markdown",
   "metadata": {},
   "source": [
    "## Toys\n",
    "\n",
    "Given a list of toy prices and k = amount in hand. Find the maximum number of toys that can be purchased"
   ]
  },
  {
   "cell_type": "code",
   "execution_count": 35,
   "metadata": {},
   "outputs": [
    {
     "name": "stdout",
     "output_type": "stream",
     "text": [
      "4\n"
     ]
    }
   ],
   "source": [
    "prices = [3,7,2,9,4]\n",
    "k = 15\n",
    "toys=[]\n",
    "for i in range(0,len(prices)):\n",
    "    #print(sum(toys))\n",
    "    if sum(toys) <= k:\n",
    "        toys.append(prices[i])\n",
    "#print(toys)\n",
    "print(len(toys))"
   ]
  },
  {
   "cell_type": "markdown",
   "metadata": {},
   "source": [
    "## Array Rotation"
   ]
  },
  {
   "cell_type": "markdown",
   "metadata": {},
   "source": [
    "Write a function rotate(ar[], d, n) that rotates arr[] of size n by d elements."
   ]
  },
  {
   "cell_type": "code",
   "execution_count": 43,
   "metadata": {},
   "outputs": [
    {
     "name": "stdout",
     "output_type": "stream",
     "text": [
      "1\n",
      "1\n",
      "1\n",
      "1\n",
      "0 0 2\n",
      "[3, 2, 3, 4, 5, 6, 7]\n",
      "0 2 4\n",
      "[3, 2, 5, 4, 5, 6, 7]\n",
      "0 4 6\n",
      "[3, 2, 5, 4, 7, 6, 7]\n",
      "0 6 8\n",
      "[3, 2, 5, 4, 7, 6, 2]\n",
      "0 1 3\n",
      "[3, 4, 5, 4, 7, 6, 2]\n",
      "0 3 5\n",
      "[3, 4, 5, 6, 7, 6, 2]\n",
      "0 5 7\n",
      " 3  4  5  6  7  1  2 "
     ]
    }
   ],
   "source": [
    "def leftRotate(arr, d, n): \n",
    "    d = d % n \n",
    "    g_c_d = gcd(d, n) \n",
    "    for i in range(g_c_d): \n",
    "          \n",
    "        # move i-th values of blocks  \n",
    "        temp = arr[i] \n",
    "        j = i \n",
    "        while 1:     \n",
    "            k = j + d \n",
    "            print(i,j,k)\n",
    "            if k >= n: \n",
    "                k = k - n \n",
    "            if k == i: \n",
    "                break\n",
    "            arr[j] = arr[k] \n",
    "            j = k \n",
    "            print(arr)\n",
    "        arr[j] = temp      \n",
    "\n",
    "# UTILITY FUNCTIONS \n",
    "# function to print an array  \n",
    "def printArray(arr, size): \n",
    "    for i in range(size): \n",
    "        print (\"% d\" % arr[i], end =\" \") \n",
    "        \n",
    "  # Fuction to get gcd of a and b \n",
    "def gcd(a, b): \n",
    "    if b == 0: \n",
    "        print(a)\n",
    "        return a; \n",
    "    else: \n",
    "        x = gcd(b, a % b) \n",
    "        print (x)\n",
    "        return (x)\n",
    "    \n",
    "  #Driver program to test above functions  \n",
    "arr = [1, 2, 3, 4, 5, 6, 7] \n",
    "n = len(arr) \n",
    "d = 2\n",
    "leftRotate(arr, d, n) \n",
    "printArray(arr, n) "
   ]
  },
  {
   "cell_type": "code",
   "execution_count": 44,
   "metadata": {},
   "outputs": [
    {
     "name": "stdout",
     "output_type": "stream",
     "text": [
      "['I', 'am', 'Jharna']\n"
     ]
    }
   ],
   "source": [
    "S = \"I am Jharna\"\n",
    "s = S.split()\n",
    "print(s)"
   ]
  },
  {
   "cell_type": "code",
   "execution_count": 58,
   "metadata": {},
   "outputs": [
    {
     "name": "stdout",
     "output_type": "stream",
     "text": [
      "IaJ\n"
     ]
    }
   ],
   "source": [
    "print(''.join([str(x[0]) for x in s]))"
   ]
  },
  {
   "cell_type": "code",
   "execution_count": 59,
   "metadata": {},
   "outputs": [],
   "source": [
    "bitnum = bin(5)[2:]"
   ]
  },
  {
   "cell_type": "code",
   "execution_count": 60,
   "metadata": {},
   "outputs": [
    {
     "name": "stdout",
     "output_type": "stream",
     "text": [
      "<class 'str'>\n"
     ]
    }
   ],
   "source": [
    "print(type(bitnum))"
   ]
  },
  {
   "cell_type": "code",
   "execution_count": null,
   "metadata": {},
   "outputs": [],
   "source": []
  }
 ],
 "metadata": {
  "kernelspec": {
   "display_name": "Python 3",
   "language": "python",
   "name": "python3"
  },
  "language_info": {
   "codemirror_mode": {
    "name": "ipython",
    "version": 3
   },
   "file_extension": ".py",
   "mimetype": "text/x-python",
   "name": "python",
   "nbconvert_exporter": "python",
   "pygments_lexer": "ipython3",
   "version": "3.7.6"
  }
 },
 "nbformat": 4,
 "nbformat_minor": 4
}
