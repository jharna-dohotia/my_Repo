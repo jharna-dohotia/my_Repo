{
 "cells": [
  {
   "cell_type": "markdown",
   "metadata": {},
   "source": [
    "## String Manipulation / Array Questions"
   ]
  },
  {
   "cell_type": "markdown",
   "metadata": {},
   "source": [
    "**String Reversal**"
   ]
  },
  {
   "cell_type": "code",
   "execution_count": null,
   "metadata": {},
   "outputs": [],
   "source": [
    "l = \"abc\"\n",
    "print (l[::-1])"
   ]
  },
  {
   "cell_type": "markdown",
   "metadata": {},
   "source": [
    "**Given a string, say a = \"AABBCC\". Return the count of removal of consecutive same characters such that a -> \"ABC\"**"
   ]
  },
  {
   "cell_type": "code",
   "execution_count": 8,
   "metadata": {},
   "outputs": [],
   "source": [
    "def alternatingCharacters(s):\n",
    "    s = list(map(list,s))\n",
    "    s1 = [0]*len(s)\n",
    "    count = 0\n",
    "    for i in range(len(s)-1):\n",
    "        if s[i]==s[i+1]:\n",
    "            s1[i+1] = 1\n",
    "    print(s1)\n",
    "    print(len(s1))\n",
    "    \n",
    "    for i in range(len(s1)):\n",
    "        if s1[i] == 1:\n",
    "            count += 1\n",
    "    \n",
    "    return (count)  "
   ]
  },
  {
   "cell_type": "code",
   "execution_count": 10,
   "metadata": {},
   "outputs": [
    {
     "name": "stdout",
     "output_type": "stream",
     "text": [
      "[0, 1, 0, 1, 1, 0]\n",
      "6\n",
      "3\n"
     ]
    }
   ],
   "source": [
    "print(alternatingCharacters(\"AABBBA\"))"
   ]
  },
  {
   "cell_type": "markdown",
   "metadata": {},
   "source": [
    "**Length of longest repeating substring**"
   ]
  },
  {
   "cell_type": "code",
   "execution_count": 10,
   "metadata": {},
   "outputs": [],
   "source": [
    "def lengthOfLongestSubstring(strings):\n",
    "        # here we use sliding window method\n",
    "        # we will track two pointer left and right\n",
    "        s = strings\n",
    "        l = 0\n",
    "        charSeen = set()\n",
    "        #print (charSeen)\n",
    "        max_len = 0\n",
    "        \n",
    "        for r in range(len(s)):\n",
    "            # if right pointer meet duplicate, start to remove elements from the left until the duplicate element has been removed\n",
    "            while s[r] in charSeen:\n",
    "                charSeen.remove(s[l])\n",
    "                # update the left pointer\n",
    "                l += 1\n",
    "            charSeen.add(s[r])\n",
    "            max_len = max(max_len, r - l + 1)\n",
    "        return max_len"
   ]
  },
  {
   "cell_type": "code",
   "execution_count": 14,
   "metadata": {},
   "outputs": [
    {
     "name": "stdout",
     "output_type": "stream",
     "text": [
      "4\n"
     ]
    }
   ],
   "source": [
    "#Driver Code\n",
    "print (lengthOfLongestSubstring(\"abcdabcd\"))"
   ]
  },
  {
   "cell_type": "markdown",
   "metadata": {},
   "source": [
    "**Group Anagrams**"
   ]
  },
  {
   "cell_type": "code",
   "execution_count": 1,
   "metadata": {},
   "outputs": [],
   "source": [
    "def ga_sol(strs):\n",
    "    hashMap = {}\n",
    "    for s in strs:\n",
    "            tmp = \"\".join(sorted(s))\n",
    "            print(tmp)\n",
    "            if tmp in hashMap:\n",
    "                    hashMap[tmp].append(s)\n",
    "            else:\n",
    "                    hashMap[tmp] = [s]\n",
    "            print(hashMap)\n",
    "    return list(hashMap.values())"
   ]
  },
  {
   "cell_type": "code",
   "execution_count": 2,
   "metadata": {},
   "outputs": [
    {
     "name": "stdout",
     "output_type": "stream",
     "text": [
      "aet\n",
      "{'aet': ['eat']}\n",
      "aet\n",
      "{'aet': ['eat', 'tea']}\n",
      "ant\n",
      "{'aet': ['eat', 'tea'], 'ant': ['tan']}\n",
      "aet\n",
      "{'aet': ['eat', 'tea', 'ate'], 'ant': ['tan']}\n",
      "ant\n",
      "{'aet': ['eat', 'tea', 'ate'], 'ant': ['tan', 'nat']}\n",
      "abt\n",
      "{'aet': ['eat', 'tea', 'ate'], 'ant': ['tan', 'nat'], 'abt': ['bat']}\n",
      "[['eat', 'tea', 'ate'], ['tan', 'nat'], ['bat']]\n"
     ]
    }
   ],
   "source": [
    "#Driver Code\n",
    "strs = [\"eat\",\"tea\",\"tan\",\"ate\",\"nat\",\"bat\"]\n",
    "print (ga_sol(strs))"
   ]
  },
  {
   "cell_type": "markdown",
   "metadata": {},
   "source": [
    "**Longest Palindrome**"
   ]
  },
  {
   "cell_type": "code",
   "execution_count": 269,
   "metadata": {},
   "outputs": [],
   "source": [
    "##DP\n",
    "def longestPalindrome(s):\n",
    "        \n",
    "        n = len(s)\n",
    "        results = [[False] * n for i in range(n)]\n",
    "        x, y = 0, 0\n",
    "        \n",
    "        \n",
    "        for i in range(n):\n",
    "            results[i][i] = True\n",
    "        \n",
    "#         print(\"initial\")\n",
    "        \n",
    "#         for i in range(n):    \n",
    "#             print(results[i])\n",
    "        \n",
    "        for i in range(n - 1):\n",
    "            if s[i] == s[i + 1]:\n",
    "                results[i][i + 1] = True\n",
    "                # change longest palindrome to the 1st 2-letter palindrome\n",
    "                if not x and not y:\n",
    "                    x, y = i, i + 1\n",
    "                    \n",
    "#         print(\"2 letter palindrome\")\n",
    "#         for i in range(n):    \n",
    "#             print(results[i])\n",
    "        \n",
    "        for k in range(2, n):\n",
    "            for i in range(n - 2):\n",
    "                j = i + k\n",
    "                # break the loop if it exceeds the boundaries of the matrix\n",
    "                if j == n:\n",
    "                    break\n",
    "                # check if current substring is a palindrome\n",
    "                if results[i + 1][j - 1] and s[i] == s[j]:\n",
    "                    results[i][j] = True\n",
    "                    # len(substring(i, j)) > len(substring(x, y))\n",
    "                    # this way we always choose 1st longest palindrome\n",
    "                    if j - i > y - x:\n",
    "                        x, y = i, j\n",
    "                        \n",
    "#         print(\"n letter palindrome\")                \n",
    "#         for i in range(n):    \n",
    "#             print(results[i])\n",
    "\n",
    "        return s[x:y + 1]\n"
   ]
  },
  {
   "cell_type": "code",
   "execution_count": 270,
   "metadata": {},
   "outputs": [
    {
     "name": "stdout",
     "output_type": "stream",
     "text": [
      "abba\n"
     ]
    }
   ],
   "source": [
    "print (longestPalindrome(\"abbacd\"))"
   ]
  },
  {
   "cell_type": "code",
   "execution_count": 271,
   "metadata": {},
   "outputs": [],
   "source": [
    "def palindrome(s):\n",
    "    def expandAroundCenter(left,right) :\n",
    "                while left >= 0 and right < len(s) and s[left] == s[right] :\n",
    "                    left -= 1\n",
    "                    right += 1\n",
    "                return right-left-1 \n",
    "\n",
    "    ans = 0 \n",
    "    start = 0 \n",
    "    end = 0 \n",
    "    \n",
    "    for i in range(len(s)) :\n",
    "        lenth1 = expandAroundCenter(i,i) \n",
    "        lenth2 = expandAroundCenter(i,i+1) \n",
    "        maxLen = max(lenth2, lenth1) \n",
    "        if maxLen > ans : \n",
    "            ans = maxLen  \n",
    "            start = i - ((maxLen-1)//2)\n",
    "            end = i + (maxLen//2) \n",
    "\n",
    "    return s[start:end+1] "
   ]
  },
  {
   "cell_type": "code",
   "execution_count": 272,
   "metadata": {},
   "outputs": [
    {
     "name": "stdout",
     "output_type": "stream",
     "text": [
      "abba\n"
     ]
    }
   ],
   "source": [
    "print (palindrome(\"abbacd\"))"
   ]
  },
  {
   "cell_type": "markdown",
   "metadata": {},
   "source": [
    "## Valid String\n",
    "\n",
    "A string is valid if the count of all alphabets are equal or can become equal by removing just one occurence of an alphabet.\n",
    "Print \"YES\" if it is valid by above logic, else print \"NO\""
   ]
  },
  {
   "cell_type": "code",
   "execution_count": null,
   "metadata": {},
   "outputs": [],
   "source": [
    "from collections import Counter\n",
    "\n",
    "def isValid(s):\n",
    "    c = Counter(Counter(s).values())\n",
    "    print(c)\n",
    "    if len(c)==1:\n",
    "        return \"YES\"\n",
    "    if len(c)>2:\n",
    "        return \"NO\"\n",
    "    if 1 in c.values() and (c[min(c.keys())]==1 or (max(c.keys()) - min(c.keys())==1)):\n",
    "        return \"YES\"\n",
    "    else:\n",
    "        return \"NO\"\n"
   ]
  },
  {
   "cell_type": "code",
   "execution_count": null,
   "metadata": {},
   "outputs": [],
   "source": [
    "print(isValid(\"aabbcccddd\"))"
   ]
  },
  {
   "cell_type": "markdown",
   "metadata": {},
   "source": [
    "## Re Sub\n",
    "\n",
    "Write a RegEx sub code which substitutes all ' && ' into ' and ' and all ' || ' into ' or '"
   ]
  },
  {
   "cell_type": "code",
   "execution_count": null,
   "metadata": {},
   "outputs": [],
   "source": [
    "from sys import stdin\n",
    "import re\n",
    "n = input()\n",
    "Driver Code:\n",
    "print(re.sub( r\"(?<= )(&&|\\|\\|)(?= )\", lambda x: \"and\" if x.group()==\"&&\" else \"or\", stdin.read()))"
   ]
  },
  {
   "cell_type": "code",
   "execution_count": null,
   "metadata": {},
   "outputs": [],
   "source": [
    "## Driver Input\n",
    "#First Line contains n = number of lines to be processed by n lines\n",
    "# 11\n",
    "# a = 1;\n",
    "# b = input();\n",
    "\n",
    "# if a + b > 0 && a - b < 0:\n",
    "#     start()\n",
    "# elif a*b > 10 || a/b < 1:\n",
    "#     stop()\n",
    "# print set(list(a)) | set(list(b)) \n",
    "# #Note do not change &&& or ||| or & or |\n",
    "# #Only change those '&&' which have space on both sides.\n",
    "# #Only change those '|| which have space on both sides."
   ]
  },
  {
   "cell_type": "markdown",
   "metadata": {},
   "source": [
    "## SwapCase"
   ]
  },
  {
   "cell_type": "code",
   "execution_count": 2,
   "metadata": {},
   "outputs": [
    {
     "name": "stdout",
     "output_type": "stream",
     "text": [
      "jHARNA IS A sOFTWARE dEVELOPER\n",
      "jHARNA IS A sOFTWARE dEVELOPER\n"
     ]
    }
   ],
   "source": [
    "l = ['Jharna','is','a','Software','Developer']\n",
    "s = 'Jharna is a Software Developer'\n",
    "\n",
    "l1 = \" \".join(map(str.swapcase,l))\n",
    "s1 = s.swapcase()\n",
    "\n",
    "print(l1)\n",
    "print(s1)"
   ]
  },
  {
   "cell_type": "markdown",
   "metadata": {},
   "source": [
    "## Count Substring"
   ]
  },
  {
   "cell_type": "code",
   "execution_count": 6,
   "metadata": {},
   "outputs": [],
   "source": [
    "def count_substring(string, sub_string):\n",
    "    if len(sub_string) > len(string):\n",
    "        return(0)\n",
    "    c = 0\n",
    "    for i in range(len(string)):\n",
    "        print(string[i:i+3])\n",
    "        if string[i:i+3] == sub_string:\n",
    "            c+=1\n",
    "    return(c)"
   ]
  },
  {
   "cell_type": "code",
   "execution_count": 8,
   "metadata": {},
   "outputs": [
    {
     "name": "stdout",
     "output_type": "stream",
     "text": [
      "3\n",
      "ABC\n",
      "BCD\n",
      "CDC\n",
      "DCD\n",
      "CDC\n",
      "DC\n",
      "C\n",
      "2\n"
     ]
    }
   ],
   "source": [
    "string = \"ABCDCDC\"\n",
    "sub_string = \"CDC\"\n",
    "print(len(sub_string))\n",
    "print(count_substring(string, sub_string))"
   ]
  },
  {
   "cell_type": "code",
   "execution_count": 19,
   "metadata": {},
   "outputs": [],
   "source": [
    "l = \"ac\"\n",
    "l1 = list(map(str.isupper,l))\n",
    "\n",
    "if True in l1:\n",
    "    print(\"Yes\")"
   ]
  },
  {
   "cell_type": "code",
   "execution_count": 17,
   "metadata": {},
   "outputs": [
    {
     "data": {
      "text/plain": [
       "[False, True, False]"
      ]
     },
     "execution_count": 17,
     "metadata": {},
     "output_type": "execute_result"
    }
   ],
   "source": [
    "l1"
   ]
  },
  {
   "cell_type": "code",
   "execution_count": 15,
   "metadata": {},
   "outputs": [],
   "source": []
  },
  {
   "cell_type": "code",
   "execution_count": null,
   "metadata": {},
   "outputs": [],
   "source": []
  }
 ],
 "metadata": {
  "kernelspec": {
   "display_name": "Python 3",
   "language": "python",
   "name": "python3"
  },
  "language_info": {
   "codemirror_mode": {
    "name": "ipython",
    "version": 3
   },
   "file_extension": ".py",
   "mimetype": "text/x-python",
   "name": "python",
   "nbconvert_exporter": "python",
   "pygments_lexer": "ipython3",
   "version": "3.7.6"
  }
 },
 "nbformat": 4,
 "nbformat_minor": 4
}
