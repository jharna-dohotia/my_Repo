{
 "cells": [
  {
   "cell_type": "markdown",
   "metadata": {},
   "source": [
    "## 3Sum"
   ]
  },
  {
   "cell_type": "code",
   "execution_count": 2,
   "metadata": {},
   "outputs": [],
   "source": [
    "class Solution:\n",
    "    def threeSum(self, nums):\n",
    "        res = []\n",
    "        nums.sort()\n",
    "        \n",
    "        for i, a in enumerate(nums):\n",
    "            if i > 0 and a == nums[i - 1]:\n",
    "                continue\n",
    "            \n",
    "            l, r = i + 1, len(nums) - 1\n",
    "            while l < r:\n",
    "                threeSum = a + nums[l] + nums[r]\n",
    "                if threeSum > 0:\n",
    "                    r -= 1\n",
    "                elif threeSum < 0:\n",
    "                    l += 1\n",
    "                else:\n",
    "                    res.append([a, nums[l], nums[r]])\n",
    "                    l += 1\n",
    "                    while nums[l] == nums[l - 1] and l < r:\n",
    "                        l += 1\n",
    "        return res"
   ]
  },
  {
   "cell_type": "code",
   "execution_count": 1,
   "metadata": {},
   "outputs": [
    {
     "name": "stdout",
     "output_type": "stream",
     "text": [
      "0 -1\n",
      "1 0\n",
      "2 1\n",
      "3 2\n",
      "4 -1\n",
      "5 4\n"
     ]
    }
   ],
   "source": [
    "nums = [-1,0,1,2,-1,4]\n",
    "for i, a in enumerate(nums):\n",
    "            print (i,a)"
   ]
  },
  {
   "cell_type": "code",
   "execution_count": 9,
   "metadata": {},
   "outputs": [],
   "source": [
    "res = Solution.threeSum(1,nums)"
   ]
  },
  {
   "cell_type": "raw",
   "metadata": {},
   "source": [
    "for i, a in enumerate(nums):\n",
    "            print (i,a)"
   ]
  },
  {
   "cell_type": "code",
   "execution_count": 30,
   "metadata": {},
   "outputs": [],
   "source": [
    "matrix = [[0,1,2,0],[3,4,5,2],[1,3,1,5]]"
   ]
  },
  {
   "cell_type": "code",
   "execution_count": 31,
   "metadata": {},
   "outputs": [],
   "source": [
    "rows, cols = len(matrix), len(matrix[0])\n",
    "indices = []\n",
    "for row in range(rows):\n",
    "    for col in range(cols):\n",
    "        if matrix[row][col] == 0:\n",
    "            indices.append((row, col))\n",
    "\n",
    "for row, col in indices:\n",
    "    matrix[row] = [0] * cols\n",
    "\n",
    "for _, col in indices:\n",
    "    for row in range(rows):\n",
    "        matrix[row][col] = 0  \n",
    "            "
   ]
  },
  {
   "cell_type": "code",
   "execution_count": 32,
   "metadata": {},
   "outputs": [
    {
     "name": "stdout",
     "output_type": "stream",
     "text": [
      "[[0, 0, 0, 0], [0, 4, 5, 0], [0, 3, 1, 0]]\n"
     ]
    }
   ],
   "source": [
    "print(matrix)"
   ]
  },
  {
   "cell_type": "code",
   "execution_count": 35,
   "metadata": {},
   "outputs": [
    {
     "name": "stdout",
     "output_type": "stream",
     "text": [
      "False\n"
     ]
    }
   ],
   "source": [
    "str1 = ['a','b']\n",
    "str2 = ['b','a']\n",
    "\n",
    "if str1 == str2:\n",
    "    print(\"True\")\n",
    "else:\n",
    "    print(\"False\")"
   ]
  },
  {
   "cell_type": "code",
   "execution_count": 95,
   "metadata": {},
   "outputs": [
    {
     "name": "stdout",
     "output_type": "stream",
     "text": [
      "[1, 4, 5, 7]\n"
     ]
    }
   ],
   "source": [
    "l = [1,2,2,3,3,3,4,5,6,6,7]\n",
    "n = 1\n",
    "nums = []\n",
    "for i in range(len(l)):\n",
    "    x = l[i]\n",
    "    if l.count(x) > n:\n",
    "        nums.append(x)\n",
    "#print(nums)\n",
    "\n",
    "for i in nums:\n",
    "     l = list(filter((i).__ne__,l))\n",
    "print(l)"
   ]
  },
  {
   "cell_type": "code",
   "execution_count": 75,
   "metadata": {},
   "outputs": [
    {
     "name": "stdout",
     "output_type": "stream",
     "text": [
      "11\n",
      "2\n"
     ]
    },
    {
     "data": {
      "text/plain": [
       "[1, 3, 3, 3, 4, 5, 6, 6, 7]"
      ]
     },
     "execution_count": 75,
     "metadata": {},
     "output_type": "execute_result"
    }
   ],
   "source": [
    "l = [1,2,2,3,3,3,4,5,6,6,7]\n",
    "n = 1\n",
    "x = l[1]\n",
    "print(len(l))\n",
    "print(l.count(x))\n",
    "list(filter((x).__ne__,l))"
   ]
  },
  {
   "cell_type": "code",
   "execution_count": 40,
   "metadata": {},
   "outputs": [
    {
     "name": "stdout",
     "output_type": "stream",
     "text": [
      "[1, 2, 3, 3, 4, 5, 6, 6, 7]\n"
     ]
    }
   ],
   "source": []
  },
  {
   "cell_type": "code",
   "execution_count": 158,
   "metadata": {},
   "outputs": [],
   "source": [
    "def solution(data, n): \n",
    "    # Your code here\n",
    "    nums = []\n",
    "    for i in data:\n",
    "        if data.count(i) > n:\n",
    "            nums.append(i)\n",
    "    for i in nums:\n",
    "         data = list(filter((i).__ne__,data))\n",
    "   \n",
    "    return data"
   ]
  },
  {
   "cell_type": "code",
   "execution_count": 159,
   "metadata": {},
   "outputs": [
    {
     "name": "stdout",
     "output_type": "stream",
     "text": [
      "[1, 4, 5, 7]\n"
     ]
    }
   ],
   "source": [
    "print(solution([1,2,2,3,3,3,4,5,6,6,7],1))"
   ]
  },
  {
   "cell_type": "code",
   "execution_count": 160,
   "metadata": {},
   "outputs": [
    {
     "name": "stdout",
     "output_type": "stream",
     "text": [
      "[1, 4]\n"
     ]
    }
   ],
   "source": [
    "print(solution([1,2,2,3,3,3,4,5,5,6,6],1))"
   ]
  },
  {
   "cell_type": "code",
   "execution_count": 163,
   "metadata": {},
   "outputs": [
    {
     "name": "stdout",
     "output_type": "stream",
     "text": [
      "[5, 15, 7]\n"
     ]
    }
   ],
   "source": [
    "print(solution([5,10,15,10,7],1))"
   ]
  },
  {
   "cell_type": "code",
   "execution_count": 176,
   "metadata": {},
   "outputs": [],
   "source": [
    "def sol(data, n): \n",
    "    # Your code here\n",
    "    for i in data:\n",
    "        if data.count(i) > n:\n",
    "            data = list(filter((i).__ne__,data))\n",
    "   \n",
    "    return data"
   ]
  },
  {
   "cell_type": "code",
   "execution_count": 177,
   "metadata": {},
   "outputs": [
    {
     "name": "stdout",
     "output_type": "stream",
     "text": [
      "[5, 15, 7]\n"
     ]
    }
   ],
   "source": [
    "print(sol([5,10,15,10,7],1))"
   ]
  },
  {
   "cell_type": "code",
   "execution_count": 178,
   "metadata": {},
   "outputs": [
    {
     "name": "stdout",
     "output_type": "stream",
     "text": [
      "[1, 4]\n"
     ]
    }
   ],
   "source": [
    "print(sol([1,2,2,3,3,3,4,5,5],1))"
   ]
  },
  {
   "cell_type": "code",
   "execution_count": 182,
   "metadata": {},
   "outputs": [
    {
     "name": "stdout",
     "output_type": "stream",
     "text": [
      "[1, 4, 5, 6, 6, 7]\n"
     ]
    }
   ],
   "source": [
    "print(sol([1,2,2,2,3,3,3,4,5,6,6,7],2))"
   ]
  },
  {
   "cell_type": "code",
   "execution_count": 180,
   "metadata": {},
   "outputs": [
    {
     "name": "stdout",
     "output_type": "stream",
     "text": [
      "[]\n"
     ]
    }
   ],
   "source": [
    "print(sol([1,2,3],0))"
   ]
  },
  {
   "cell_type": "code",
   "execution_count": 241,
   "metadata": {},
   "outputs": [],
   "source": []
  },
  {
   "cell_type": "code",
   "execution_count": 261,
   "metadata": {},
   "outputs": [],
   "source": [
    "el = [\"1.0.0\",\"1.0\",\"1\", \"1.0.1\" ,\"1.1\", \"2.0.3\", \"1.2\", \"2.1\"]\n",
    "m = 1\n",
    "n = len(el)\n",
    "for i in range(n):\n",
    "    el[i] = el[i].split('.')"
   ]
  },
  {
   "cell_type": "code",
   "execution_count": 262,
   "metadata": {},
   "outputs": [
    {
     "data": {
      "text/plain": [
       "[['1', '0', '0'],\n",
       " ['1', '0'],\n",
       " ['1'],\n",
       " ['1', '0', '1'],\n",
       " ['1', '1'],\n",
       " ['2', '0', '3'],\n",
       " ['1', '2'],\n",
       " ['2', '1']]"
      ]
     },
     "execution_count": 262,
     "metadata": {},
     "output_type": "execute_result"
    }
   ],
   "source": [
    "el"
   ]
  },
  {
   "cell_type": "code",
   "execution_count": null,
   "metadata": {},
   "outputs": [],
   "source": []
  },
  {
   "cell_type": "code",
   "execution_count": 266,
   "metadata": {},
   "outputs": [],
   "source": [
    "el = [\"1.0.0\",\"1.0\",\"1\", \"1.0.1\" ,\"1.1\", \"2.0.3\", \"1.2\", \"2.1\"]\n",
    "el.sort(key = lambda x: list(map(int, x.split(\".\"))))"
   ]
  },
  {
   "cell_type": "code",
   "execution_count": 267,
   "metadata": {},
   "outputs": [
    {
     "data": {
      "text/plain": [
       "['1', '1.0', '1.0.0', '1.0.1', '1.1', '1.2', '2.0.3', '2.1']"
      ]
     },
     "execution_count": 267,
     "metadata": {},
     "output_type": "execute_result"
    }
   ],
   "source": [
    "el"
   ]
  },
  {
   "cell_type": "code",
   "execution_count": null,
   "metadata": {},
   "outputs": [],
   "source": []
  }
 ],
 "metadata": {
  "kernelspec": {
   "display_name": "Python 3",
   "language": "python",
   "name": "python3"
  },
  "language_info": {
   "codemirror_mode": {
    "name": "ipython",
    "version": 3
   },
   "file_extension": ".py",
   "mimetype": "text/x-python",
   "name": "python",
   "nbconvert_exporter": "python",
   "pygments_lexer": "ipython3",
   "version": "3.7.6"
  }
 },
 "nbformat": 4,
 "nbformat_minor": 4
}
