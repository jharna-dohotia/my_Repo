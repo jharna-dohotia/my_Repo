{
 "cells": [
  {
   "cell_type": "code",
   "execution_count": 88,
   "metadata": {},
   "outputs": [],
   "source": [
    "import warnings\n",
    "warnings.filterwarnings(\"ignore\")"
   ]
  },
  {
   "cell_type": "code",
   "execution_count": 89,
   "metadata": {},
   "outputs": [],
   "source": [
    "import json, csv\n",
    "import pandas as pd\n",
    "\n",
    "#libraries for JSON parsing function\n",
    "from functools import (partial,\n",
    "                       singledispatch)\n",
    "from itertools import chain\n",
    "from typing import (Dict,\n",
    "                    List,\n",
    "                    TypeVar)"
   ]
  },
  {
   "cell_type": "code",
   "execution_count": 90,
   "metadata": {},
   "outputs": [],
   "source": [
    "unflat_json = {\n",
    "    \"elements\": [\n",
    "        {\n",
    "            \"id\": \"NAF9Z6VCVJYTP\",\n",
    "            \"order\": {\n",
    "                \"id\": \"80RG8EZP07K34\"\n",
    "            },\n",
    "            \"tender\": {\n",
    "                \"id\": \"S8E9QD03QDKG8\"\n",
    "            },\n",
    "            \"amount\": 6000,\n",
    "            \"taxAmount\": 0,\n",
    "            \"employee\": {\n",
    "                \"id\": \"TB68P3RX5WSMP\"\n",
    "            },\n",
    "            \"createdTime\": 1594992181000,\n",
    "            \"clientCreatedTime\": 1594992178000,\n",
    "            \"modifiedTime\": 1594992180000,\n",
    "            \"offline\": False,\n",
    "            \"result\": \"SUCCESS\"\n",
    "        },\n",
    "        {\n",
    "            \"id\": \"H5WTF7HAZXDNW\",\n",
    "            \"order\": {\n",
    "                \"id\": \"XHRVJ2R33BQZY\"\n",
    "            },\n",
    "            \"tender\": {\n",
    "     \"id\": \"S8E9QD03QDKG8\"\n",
    "            },\n",
    "            \"amount\": 3500,\n",
    "            \"taxAmount\": 0,\n",
    "            \"employee\": {\n",
    "                \"id\": \"TB68P3RX5WSMP\"\n",
    "            },\n",
    "            \"createdTime\": 1594991912000,\n",
    "            \"clientCreatedTime\": 1594991909000,\n",
    "            \"modifiedTime\": 1594991911000,\n",
    "            \"offline\": False,\n",
    "            \"result\": \"SUCCESS\"\n",
    "        }]\n",
    "}\n"
   ]
  },
  {
   "cell_type": "code",
   "execution_count": 91,
   "metadata": {},
   "outputs": [
    {
     "name": "stdout",
     "output_type": "stream",
     "text": [
      "{'elements_0_id': 'NAF9Z6VCVJYTP', 'elements_0_order_id': '80RG8EZP07K34', 'elements_0_tender_id': 'S8E9QD03QDKG8', 'elements_0_amount': 6000, 'elements_0_taxAmount': 0, 'elements_0_employee_id': 'TB68P3RX5WSMP', 'elements_0_createdTime': 1594992181000, 'elements_0_clientCreatedTime': 1594992178000, 'elements_0_modifiedTime': 1594992180000, 'elements_0_offline': False, 'elements_0_result': 'SUCCESS', 'elements_1_id': 'H5WTF7HAZXDNW', 'elements_1_order_id': 'XHRVJ2R33BQZY', 'elements_1_tender_id': 'S8E9QD03QDKG8', 'elements_1_amount': 3500, 'elements_1_taxAmount': 0, 'elements_1_employee_id': 'TB68P3RX5WSMP', 'elements_1_createdTime': 1594991912000, 'elements_1_clientCreatedTime': 1594991909000, 'elements_1_modifiedTime': 1594991911000, 'elements_1_offline': False, 'elements_1_result': 'SUCCESS'}\n"
     ]
    }
   ],
   "source": [
    "from flatten_json import flatten \n",
    "flat_json = flatten(unflat_json) \n",
    "  \n",
    "print(flat_json) "
   ]
  },
  {
   "cell_type": "code",
   "execution_count": 92,
   "metadata": {},
   "outputs": [
    {
     "name": "stdout",
     "output_type": "stream",
     "text": [
      "   elements_0_id elements_0_order_id elements_0_tender_id  elements_0_amount  \\\n",
      "0  NAF9Z6VCVJYTP       80RG8EZP07K34        S8E9QD03QDKG8               6000   \n",
      "\n",
      "   elements_0_taxAmount elements_0_employee_id  elements_0_createdTime  \\\n",
      "0                     0          TB68P3RX5WSMP           1594992181000   \n",
      "\n",
      "   elements_0_clientCreatedTime  elements_0_modifiedTime  elements_0_offline  \\\n",
      "0                 1594992178000            1594992180000               False   \n",
      "\n",
      "   ... elements_1_order_id elements_1_tender_id elements_1_amount  \\\n",
      "0  ...       XHRVJ2R33BQZY        S8E9QD03QDKG8              3500   \n",
      "\n",
      "  elements_1_taxAmount  elements_1_employee_id  elements_1_createdTime  \\\n",
      "0                    0           TB68P3RX5WSMP           1594991912000   \n",
      "\n",
      "  elements_1_clientCreatedTime  elements_1_modifiedTime  elements_1_offline  \\\n",
      "0                1594991909000            1594991911000               False   \n",
      "\n",
      "   elements_1_result  \n",
      "0            SUCCESS  \n",
      "\n",
      "[1 rows x 22 columns]\n"
     ]
    }
   ],
   "source": [
    "data = pd.DataFrame.from_dict(json_normalize(flat_json))\n",
    "print(data)"
   ]
  },
  {
   "cell_type": "code",
   "execution_count": 93,
   "metadata": {},
   "outputs": [],
   "source": [
    "from pandas.io.json import json_normalize\n",
    "data = json_normalize(json_string)"
   ]
  },
  {
   "cell_type": "code",
   "execution_count": 94,
   "metadata": {},
   "outputs": [
    {
     "data": {
      "text/html": [
       "<div>\n",
       "<style scoped>\n",
       "    .dataframe tbody tr th:only-of-type {\n",
       "        vertical-align: middle;\n",
       "    }\n",
       "\n",
       "    .dataframe tbody tr th {\n",
       "        vertical-align: top;\n",
       "    }\n",
       "\n",
       "    .dataframe thead th {\n",
       "        text-align: right;\n",
       "    }\n",
       "</style>\n",
       "<table border=\"1\" class=\"dataframe\">\n",
       "  <thead>\n",
       "    <tr style=\"text-align: right;\">\n",
       "      <th></th>\n",
       "      <th>elements</th>\n",
       "    </tr>\n",
       "  </thead>\n",
       "  <tbody>\n",
       "    <tr>\n",
       "      <th>0</th>\n",
       "      <td>[{'id': 'NAF9Z6VCVJYTP', 'order': {'id': '80RG...</td>\n",
       "    </tr>\n",
       "  </tbody>\n",
       "</table>\n",
       "</div>"
      ],
      "text/plain": [
       "                                            elements\n",
       "0  [{'id': 'NAF9Z6VCVJYTP', 'order': {'id': '80RG..."
      ]
     },
     "execution_count": 94,
     "metadata": {},
     "output_type": "execute_result"
    }
   ],
   "source": [
    "data"
   ]
  },
  {
   "cell_type": "code",
   "execution_count": 95,
   "metadata": {},
   "outputs": [
    {
     "name": "stdout",
     "output_type": "stream",
     "text": [
      "{'elements_0_id': 'NAF9Z6VCVJYTP', 'elements_0_order_id': '80RG8EZP07K34', 'elements_0_tender_id': 'S8E9QD03QDKG8', 'elements_0_amount': 6000, 'elements_0_taxAmount': 0, 'elements_0_employee_id': 'TB68P3RX5WSMP', 'elements_0_createdTime': 1594992181000, 'elements_0_clientCreatedTime': 1594992178000, 'elements_0_modifiedTime': 1594992180000, 'elements_0_offline': False, 'elements_0_result': 'SUCCESS', 'elements_1_id': 'H5WTF7HAZXDNW', 'elements_1_order_id': 'XHRVJ2R33BQZY', 'elements_1_tender_id': 'S8E9QD03QDKG8', 'elements_1_amount': 3500, 'elements_1_taxAmount': 0, 'elements_1_employee_id': 'TB68P3RX5WSMP', 'elements_1_createdTime': 1594991912000, 'elements_1_clientCreatedTime': 1594991909000, 'elements_1_modifiedTime': 1594991911000, 'elements_1_offline': False, 'elements_1_result': 'SUCCESS'}\n"
     ]
    }
   ],
   "source": [
    "def flatten_json(y): \n",
    "    out = {} \n",
    "  \n",
    "    def flatten(x, name =''): \n",
    "          \n",
    "        # If the Nested key-value  \n",
    "        # pair is of dict type \n",
    "        if type(x) is dict: \n",
    "              \n",
    "            for a in x: \n",
    "                flatten(x[a], name + a + '_') \n",
    "                  \n",
    "        # If the Nested key-value \n",
    "        # pair is of list type \n",
    "        elif type(x) is list: \n",
    "              \n",
    "            i = 0\n",
    "              \n",
    "            for a in x:                 \n",
    "                flatten(a, name + str(i) + '_') \n",
    "                i += 1\n",
    "        else: \n",
    "            out[name[:-1]] = x \n",
    "  \n",
    "    flatten(y) \n",
    "    return out \n",
    "\n",
    "flat_json = flatten_json(unflat_json)\n",
    "print(flat_json) "
   ]
  },
  {
   "cell_type": "code",
   "execution_count": 96,
   "metadata": {},
   "outputs": [
    {
     "name": "stdout",
     "output_type": "stream",
     "text": [
      "<class 'dict'>\n"
     ]
    }
   ],
   "source": [
    "print(type(flat_json))"
   ]
  },
  {
   "cell_type": "code",
   "execution_count": 97,
   "metadata": {},
   "outputs": [
    {
     "data": {
      "text/html": [
       "<div>\n",
       "<style scoped>\n",
       "    .dataframe tbody tr th:only-of-type {\n",
       "        vertical-align: middle;\n",
       "    }\n",
       "\n",
       "    .dataframe tbody tr th {\n",
       "        vertical-align: top;\n",
       "    }\n",
       "\n",
       "    .dataframe thead th {\n",
       "        text-align: right;\n",
       "    }\n",
       "</style>\n",
       "<table border=\"1\" class=\"dataframe\">\n",
       "  <thead>\n",
       "    <tr style=\"text-align: right;\">\n",
       "      <th></th>\n",
       "      <th>elements_0_id</th>\n",
       "      <th>elements_0_order_id</th>\n",
       "      <th>elements_0_tender_id</th>\n",
       "      <th>elements_0_amount</th>\n",
       "      <th>elements_0_taxAmount</th>\n",
       "      <th>elements_0_employee_id</th>\n",
       "      <th>elements_0_createdTime</th>\n",
       "      <th>elements_0_clientCreatedTime</th>\n",
       "      <th>elements_0_modifiedTime</th>\n",
       "      <th>elements_0_offline</th>\n",
       "      <th>...</th>\n",
       "      <th>elements_1_order_id</th>\n",
       "      <th>elements_1_tender_id</th>\n",
       "      <th>elements_1_amount</th>\n",
       "      <th>elements_1_taxAmount</th>\n",
       "      <th>elements_1_employee_id</th>\n",
       "      <th>elements_1_createdTime</th>\n",
       "      <th>elements_1_clientCreatedTime</th>\n",
       "      <th>elements_1_modifiedTime</th>\n",
       "      <th>elements_1_offline</th>\n",
       "      <th>elements_1_result</th>\n",
       "    </tr>\n",
       "  </thead>\n",
       "  <tbody>\n",
       "    <tr>\n",
       "      <th>0</th>\n",
       "      <td>NAF9Z6VCVJYTP</td>\n",
       "      <td>80RG8EZP07K34</td>\n",
       "      <td>S8E9QD03QDKG8</td>\n",
       "      <td>6000</td>\n",
       "      <td>0</td>\n",
       "      <td>TB68P3RX5WSMP</td>\n",
       "      <td>1594992181000</td>\n",
       "      <td>1594992178000</td>\n",
       "      <td>1594992180000</td>\n",
       "      <td>False</td>\n",
       "      <td>...</td>\n",
       "      <td>XHRVJ2R33BQZY</td>\n",
       "      <td>S8E9QD03QDKG8</td>\n",
       "      <td>3500</td>\n",
       "      <td>0</td>\n",
       "      <td>TB68P3RX5WSMP</td>\n",
       "      <td>1594991912000</td>\n",
       "      <td>1594991909000</td>\n",
       "      <td>1594991911000</td>\n",
       "      <td>False</td>\n",
       "      <td>SUCCESS</td>\n",
       "    </tr>\n",
       "  </tbody>\n",
       "</table>\n",
       "<p>1 rows × 22 columns</p>\n",
       "</div>"
      ],
      "text/plain": [
       "   elements_0_id elements_0_order_id elements_0_tender_id  elements_0_amount  \\\n",
       "0  NAF9Z6VCVJYTP       80RG8EZP07K34        S8E9QD03QDKG8               6000   \n",
       "\n",
       "   elements_0_taxAmount elements_0_employee_id  elements_0_createdTime  \\\n",
       "0                     0          TB68P3RX5WSMP           1594992181000   \n",
       "\n",
       "   elements_0_clientCreatedTime  elements_0_modifiedTime  elements_0_offline  \\\n",
       "0                 1594992178000            1594992180000               False   \n",
       "\n",
       "   ... elements_1_order_id elements_1_tender_id elements_1_amount  \\\n",
       "0  ...       XHRVJ2R33BQZY        S8E9QD03QDKG8              3500   \n",
       "\n",
       "  elements_1_taxAmount  elements_1_employee_id  elements_1_createdTime  \\\n",
       "0                    0           TB68P3RX5WSMP           1594991912000   \n",
       "\n",
       "  elements_1_clientCreatedTime  elements_1_modifiedTime  elements_1_offline  \\\n",
       "0                1594991909000            1594991911000               False   \n",
       "\n",
       "   elements_1_result  \n",
       "0            SUCCESS  \n",
       "\n",
       "[1 rows x 22 columns]"
      ]
     },
     "execution_count": 97,
     "metadata": {},
     "output_type": "execute_result"
    }
   ],
   "source": [
    "data = pd.DataFrame(flat_json, index = [0])\n",
    "data"
   ]
  },
  {
   "cell_type": "code",
   "execution_count": 98,
   "metadata": {},
   "outputs": [],
   "source": [
    "Serializable = TypeVar('Serializable', None, int, bool, float, str, \n",
    "                       dict, list, tuple)\n",
    "Array = List[Serializable]\n",
    "Object = Dict[str, Serializable]\n",
    "\n",
    "\n",
    "def flatten(object_: Object,\n",
    "            *,\n",
    "            path_separator: str = '.') -> Array[Object]:\n",
    "    \"\"\"\n",
    "    Flattens given JSON object into list of objects with non-nested values.\n",
    "\n",
    "    >>> flatten({'a': 1})\n",
    "    [{'a': 1}]\n",
    "    >>> flatten({'a': [1, 2]})\n",
    "    [{'a': 1}, {'a': 2}]\n",
    "    >>> flatten({'a': {'b': None}})\n",
    "    [{'a.b': None}]\n",
    "    \"\"\"\n",
    "    keys = set(object_)\n",
    "    result = [dict(object_)]\n",
    "    while keys:\n",
    "        key = keys.pop()\n",
    "        new_result = []\n",
    "        for index, record in enumerate(result):\n",
    "            try:\n",
    "                value = record[key]\n",
    "            except KeyError:\n",
    "                new_result.append(record)\n",
    "            else:\n",
    "                if isinstance(value, dict):\n",
    "                    del record[key]\n",
    "                    new_value = flatten_nested_objects(\n",
    "                            value,\n",
    "                            prefix=key + path_separator,\n",
    "                            path_separator=path_separator)\n",
    "                    keys.update(new_value.keys())\n",
    "                    new_result.append({**new_value, **record})\n",
    "                elif isinstance(value, list):\n",
    "                    del record[key]\n",
    "                    new_records = [\n",
    "                        flatten_nested_objects(sub_value,\n",
    "                                               prefix=key + path_separator,\n",
    "                                               path_separator=path_separator)\n",
    "                        for sub_value in value]\n",
    "                    keys.update(chain.from_iterable(map(dict.keys,\n",
    "                                                        new_records)))\n",
    "                    new_result.extend({**new_record, **record}\n",
    "                                      for new_record in new_records)\n",
    "                else:\n",
    "                    new_result.append(record)\n",
    "        result = new_result\n",
    "    return result\n",
    "\n",
    "\n",
    "@singledispatch\n",
    "def flatten_nested_objects(object_: Serializable,\n",
    "                           *,\n",
    "                           prefix: str = '',\n",
    "                           path_separator: str) -> Object:\n",
    "    return {prefix[:-len(path_separator)]: object_}\n",
    "\n",
    "\n",
    "@flatten_nested_objects.register(dict)\n",
    "def _(object_: Object,\n",
    "      *,\n",
    "      prefix: str = '',\n",
    "      path_separator: str) -> Object:\n",
    "    result = dict(object_)\n",
    "    for key in list(result):\n",
    "        result.update(flatten_nested_objects(result.pop(key),\n",
    "                                             prefix=(prefix + key\n",
    "                                                     + path_separator),\n",
    "                                             path_separator=path_separator))\n",
    "    return result\n",
    "\n",
    "\n",
    "@flatten_nested_objects.register(list)\n",
    "def _(object_: Array,\n",
    "      *,\n",
    "      prefix: str = '',\n",
    "      path_separator: str) -> Object:\n",
    "    return {prefix[:-len(path_separator)]: list(map(partial(\n",
    "            flatten_nested_objects,\n",
    "            path_separator=path_separator),\n",
    "            object_))}"
   ]
  },
  {
   "cell_type": "code",
   "execution_count": 99,
   "metadata": {},
   "outputs": [],
   "source": [
    "flat_json = flatten(unflat_json)"
   ]
  },
  {
   "cell_type": "code",
   "execution_count": 100,
   "metadata": {},
   "outputs": [
    {
     "data": {
      "text/html": [
       "<div>\n",
       "<style scoped>\n",
       "    .dataframe tbody tr th:only-of-type {\n",
       "        vertical-align: middle;\n",
       "    }\n",
       "\n",
       "    .dataframe tbody tr th {\n",
       "        vertical-align: top;\n",
       "    }\n",
       "\n",
       "    .dataframe thead th {\n",
       "        text-align: right;\n",
       "    }\n",
       "</style>\n",
       "<table border=\"1\" class=\"dataframe\">\n",
       "  <thead>\n",
       "    <tr style=\"text-align: right;\">\n",
       "      <th></th>\n",
       "      <th>elements.id</th>\n",
       "      <th>elements.order.id</th>\n",
       "      <th>elements.tender.id</th>\n",
       "      <th>elements.amount</th>\n",
       "      <th>elements.taxAmount</th>\n",
       "      <th>elements.employee.id</th>\n",
       "      <th>elements.createdTime</th>\n",
       "      <th>elements.clientCreatedTime</th>\n",
       "      <th>elements.modifiedTime</th>\n",
       "      <th>elements.offline</th>\n",
       "      <th>elements.result</th>\n",
       "    </tr>\n",
       "  </thead>\n",
       "  <tbody>\n",
       "    <tr>\n",
       "      <th>0</th>\n",
       "      <td>NAF9Z6VCVJYTP</td>\n",
       "      <td>80RG8EZP07K34</td>\n",
       "      <td>S8E9QD03QDKG8</td>\n",
       "      <td>6000</td>\n",
       "      <td>0</td>\n",
       "      <td>TB68P3RX5WSMP</td>\n",
       "      <td>1594992181000</td>\n",
       "      <td>1594992178000</td>\n",
       "      <td>1594992180000</td>\n",
       "      <td>False</td>\n",
       "      <td>SUCCESS</td>\n",
       "    </tr>\n",
       "    <tr>\n",
       "      <th>1</th>\n",
       "      <td>H5WTF7HAZXDNW</td>\n",
       "      <td>XHRVJ2R33BQZY</td>\n",
       "      <td>S8E9QD03QDKG8</td>\n",
       "      <td>3500</td>\n",
       "      <td>0</td>\n",
       "      <td>TB68P3RX5WSMP</td>\n",
       "      <td>1594991912000</td>\n",
       "      <td>1594991909000</td>\n",
       "      <td>1594991911000</td>\n",
       "      <td>False</td>\n",
       "      <td>SUCCESS</td>\n",
       "    </tr>\n",
       "  </tbody>\n",
       "</table>\n",
       "</div>"
      ],
      "text/plain": [
       "     elements.id elements.order.id elements.tender.id  elements.amount  \\\n",
       "0  NAF9Z6VCVJYTP     80RG8EZP07K34      S8E9QD03QDKG8             6000   \n",
       "1  H5WTF7HAZXDNW     XHRVJ2R33BQZY      S8E9QD03QDKG8             3500   \n",
       "\n",
       "   elements.taxAmount elements.employee.id  elements.createdTime  \\\n",
       "0                   0        TB68P3RX5WSMP         1594992181000   \n",
       "1                   0        TB68P3RX5WSMP         1594991912000   \n",
       "\n",
       "   elements.clientCreatedTime  elements.modifiedTime  elements.offline  \\\n",
       "0               1594992178000          1594992180000             False   \n",
       "1               1594991909000          1594991911000             False   \n",
       "\n",
       "  elements.result  \n",
       "0         SUCCESS  \n",
       "1         SUCCESS  "
      ]
     },
     "execution_count": 100,
     "metadata": {},
     "output_type": "execute_result"
    }
   ],
   "source": [
    "data = pd.DataFrame.from_dict(flat_json)\n",
    "data"
   ]
  },
  {
   "cell_type": "code",
   "execution_count": null,
   "metadata": {},
   "outputs": [],
   "source": []
  }
 ],
 "metadata": {
  "kernelspec": {
   "display_name": "Python 3",
   "language": "python",
   "name": "python3"
  },
  "language_info": {
   "codemirror_mode": {
    "name": "ipython",
    "version": 3
   },
   "file_extension": ".py",
   "mimetype": "text/x-python",
   "name": "python",
   "nbconvert_exporter": "python",
   "pygments_lexer": "ipython3",
   "version": "3.7.6"
  }
 },
 "nbformat": 4,
 "nbformat_minor": 4
}
