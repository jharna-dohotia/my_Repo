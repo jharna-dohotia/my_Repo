{
 "cells": [
  {
   "cell_type": "markdown",
   "metadata": {},
   "source": [
    "Given,\n",
    "* integer x and \n",
    "* operations add, sub, divide by 2 (only if the number is divisible by 2)\n",
    "\n",
    "Compute minimum steps as following\n",
    "* loop until number = 1: \n",
    "* * apply add sub divide \n",
    "* count number of minimum steps"
   ]
  },
  {
   "cell_type": "code",
   "execution_count": null,
   "metadata": {},
   "outputs": [],
   "source": [
    "def FInject(n): \n",
    "    \n",
    "        #Initializing empty queue\n",
    "        queue = [] \n",
    "\n",
    "        queue.append([n, 0]) \n",
    "\n",
    "        \n",
    "        #BFS to find shortest path\n",
    "        while(len(queue) > 0): \n",
    "\n",
    "            t = queue[0] \n",
    "            queue.pop(0) \n",
    "\n",
    "            # if current value == 1\n",
    "            if(t[0] == 1): \n",
    "                return t[1] \n",
    "\n",
    "            # else continue for all possible operations\n",
    "            else:\n",
    "                if n%2 != 0:\n",
    "                    queue.append([n+1,t[1]+1])\n",
    "                    queue.append([n-1,t[1]+1])\n",
    "                else:\n",
    "                    queue.append([n//2,t[1]+1])\n",
    "\n"
   ]
  },
  {
   "cell_type": "code",
   "execution_count": null,
   "metadata": {},
   "outputs": [],
   "source": [
    "print(FInject(15))"
   ]
  },
  {
   "cell_type": "code",
   "execution_count": null,
   "metadata": {},
   "outputs": [],
   "source": []
  }
 ],
 "metadata": {
  "kernelspec": {
   "display_name": "Python 3",
   "language": "python",
   "name": "python3"
  },
  "language_info": {
   "codemirror_mode": {
    "name": "ipython",
    "version": 3
   },
   "file_extension": ".py",
   "mimetype": "text/x-python",
   "name": "python",
   "nbconvert_exporter": "python",
   "pygments_lexer": "ipython3",
   "version": "3.7.6"
  }
 },
 "nbformat": 4,
 "nbformat_minor": 4
}
