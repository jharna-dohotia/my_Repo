{
 "cells": [
  {
   "cell_type": "markdown",
   "metadata": {},
   "source": [
    "## Knight's Tour"
   ]
  },
  {
   "cell_type": "code",
   "execution_count": 76,
   "metadata": {},
   "outputs": [],
   "source": [
    "N = 8"
   ]
  },
  {
   "cell_type": "code",
   "execution_count": 86,
   "metadata": {},
   "outputs": [],
   "source": [
    "class cell:    \n",
    "    def __init__(self, x = 0, y = 0, dist = 0): \n",
    "        self.x = x \n",
    "        self.y = y \n",
    "        self.dist = dist"
   ]
  },
  {
   "cell_type": "code",
   "execution_count": 87,
   "metadata": {},
   "outputs": [],
   "source": [
    "chess = [[(j)+N*i for j in range(0,N)] for i in range(0,N)]"
   ]
  },
  {
   "cell_type": "code",
   "execution_count": 88,
   "metadata": {},
   "outputs": [],
   "source": [
    "def index_2d(chess, v):\n",
    "    for i, x in enumerate(chess):\n",
    "        if v in x:\n",
    "            return ([i, x.index(v)])"
   ]
  },
  {
   "cell_type": "code",
   "execution_count": 89,
   "metadata": {},
   "outputs": [],
   "source": [
    "def valid(x,y,N):\n",
    "        if (x >= 1 and x <= N and y >= 1 and y <= N):  \n",
    "            return True\n",
    "        return False              "
   ]
  },
  {
   "cell_type": "code",
   "execution_count": 90,
   "metadata": {},
   "outputs": [],
   "source": [
    "def pos(src,des):\n",
    "    x,y = index_2d(chess, src) , index_2d(chess, des)\n",
    "    return ([x,y])"
   ]
  },
  {
   "cell_type": "code",
   "execution_count": 91,
   "metadata": {},
   "outputs": [],
   "source": [
    "def KnightTour(knightpos, targetpos, N): \n",
    "      \n",
    "    # all possible movments for the knight \n",
    "    dx = [2, 2, -2, -2, 1, 1, -1, -1] \n",
    "    dy = [1, -1, 1, -1, 2, -2, 2, -2] \n",
    "      \n",
    "    queue = [] \n",
    "      \n",
    "    # push starting position of knight \n",
    "    # with 0 distance \n",
    "    queue.append(cell(knightpos[0], knightpos[1], 0)) \n",
    "      \n",
    "    # make all cell unvisited  \n",
    "    visited = [[False for i in range(N + 1)]  \n",
    "                      for j in range(N + 1)] \n",
    "      \n",
    "    # visit starting state \n",
    "    visited[knightpos[0]][knightpos[1]] = True\n",
    "      \n",
    "    # loop untill we have one element in queue  \n",
    "    while(len(queue) > 0): \n",
    "          \n",
    "        t = queue[0] \n",
    "        queue.pop(0) \n",
    "          \n",
    "        # if current cell is equal to target  \n",
    "        # cell, return its distance  \n",
    "        if(t.x == targetpos[0] and \n",
    "           t.y == targetpos[1]): \n",
    "            return t.dist \n",
    "              \n",
    "        # iterate for all reachable states  \n",
    "        for i in range(8): \n",
    "              \n",
    "            x = t.x + dx[i] \n",
    "            y = t.y + dy[i] \n",
    "              \n",
    "            if(valid(x, y, N) and not visited[x][y]): \n",
    "                visited[x][y] = True\n",
    "                queue.append(cell(x, y, t.dist + 1)) "
   ]
  },
  {
   "cell_type": "code",
   "execution_count": 92,
   "metadata": {},
   "outputs": [
    {
     "name": "stdout",
     "output_type": "stream",
     "text": [
      "[0, 0]\n",
      "[0, 1]\n"
     ]
    }
   ],
   "source": [
    "s,d = pos(0,1)\n",
    "print (s)\n",
    "print (d)"
   ]
  },
  {
   "cell_type": "code",
   "execution_count": 93,
   "metadata": {},
   "outputs": [
    {
     "name": "stdout",
     "output_type": "stream",
     "text": [
      "None\n"
     ]
    }
   ],
   "source": [
    "print(KnightTour(s, d, N))"
   ]
  },
  {
   "cell_type": "code",
   "execution_count": 144,
   "metadata": {},
   "outputs": [],
   "source": [
    "def solution(src,des):\n",
    "        \n",
    "    N = 8\n",
    "    chess = [[(j)+N*i for j in range(0,N)] for i in range(0,N)]\n",
    "\n",
    "    # Helper functions to calculate indexes of given numbers\n",
    "    def index_2d(chess, v):\n",
    "        for i, x in enumerate(chess):\n",
    "            if v in x:\n",
    "                return ([i, x.index(v)])\n",
    "    def pos(src,des):\n",
    "        x,y = index_2d(chess, src) , index_2d(chess, des)\n",
    "        return ([x,y])\n",
    "    \n",
    "    #Helper function to check if Knight move is valid\n",
    "    def valid(x,y,N):\n",
    "            if (x >= 0 and x < N and y >= 0 and y < N):  \n",
    "                return True\n",
    "            return False   \n",
    "\n",
    "    \n",
    "    def KnightTour(s, d, N): \n",
    "\n",
    "        #Initializing possible moves\n",
    "        dx = [2, 2, -2, -2, 1, 1, -1, -1] \n",
    "        dy = [1, -1, 1, -1, 2, -2, 2, -2] \n",
    "\n",
    "        #Initializing empty queue\n",
    "        queue = [] \n",
    "\n",
    "        queue.append([s[0], s[1], 0]) \n",
    "\n",
    "        visited = [[False for i in range(0,N)]  \n",
    "                          for j in range(0,N)] \n",
    "\n",
    "        visited[s[0]][s[1]] = True\n",
    "\n",
    "        #BFS to find shortest path\n",
    "        while(len(queue) > 0): \n",
    "\n",
    "            t = queue[0] \n",
    "            queue.pop(0) \n",
    "\n",
    "            # if current square is equal to target square\n",
    "            # return distance \n",
    "            if(t[0] == d[0] and \n",
    "               t[1] == d[1]): \n",
    "                return t[2] \n",
    "\n",
    "            # else iterate for all possible moves \n",
    "            for i in range(0,N): \n",
    "\n",
    "                x = t[0] + dx[i] \n",
    "                y = t[1] + dy[i] \n",
    "\n",
    "                if(valid(x, y, N) and not visited[x][y]): \n",
    "                    visited[x][y] = True\n",
    "                    queue.append([x, y, t[2] + 1])\n",
    "\n",
    "\n",
    "    s,d = pos(src,des)\n",
    "\n",
    "    res = KnightTour(s, d, N)\n",
    "    return res\n"
   ]
  },
  {
   "cell_type": "code",
   "execution_count": 146,
   "metadata": {},
   "outputs": [
    {
     "name": "stdout",
     "output_type": "stream",
     "text": [
      "1\n"
     ]
    }
   ],
   "source": [
    "print (solution(19,36))"
   ]
  },
  {
   "cell_type": "code",
   "execution_count": 137,
   "metadata": {},
   "outputs": [
    {
     "name": "stdout",
     "output_type": "stream",
     "text": [
      "4 4\n",
      "4 2\n",
      "0 4\n",
      "0 2\n",
      "3 5\n",
      "3 1\n",
      "1 5\n",
      "1 1\n"
     ]
    }
   ],
   "source": [
    "s = [2,3]\n",
    "for i in range(0,8):\n",
    "    x = s[0] + dx[i] \n",
    "    y = s[1] + dy[i]\n",
    "    print(x,y)"
   ]
  },
  {
   "cell_type": "code",
   "execution_count": null,
   "metadata": {},
   "outputs": [],
   "source": []
  }
 ],
 "metadata": {
  "kernelspec": {
   "display_name": "Python 3",
   "language": "python",
   "name": "python3"
  },
  "language_info": {
   "codemirror_mode": {
    "name": "ipython",
    "version": 3
   },
   "file_extension": ".py",
   "mimetype": "text/x-python",
   "name": "python",
   "nbconvert_exporter": "python",
   "pygments_lexer": "ipython3",
   "version": "3.7.6"
  }
 },
 "nbformat": 4,
 "nbformat_minor": 4
}
