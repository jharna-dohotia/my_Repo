{
 "cells": [
  {
   "cell_type": "markdown",
   "metadata": {},
   "source": [
    "## PreOrder to PostOrder BST"
   ]
  },
  {
   "cell_type": "code",
   "execution_count": 22,
   "metadata": {},
   "outputs": [],
   "source": [
    "#User function Template for python3\n",
    "class Node: \n",
    "  \n",
    "    def __init__(self, data = 0): \n",
    "        self.data = data \n",
    "        self.left = None\n",
    "        self.right = None\n",
    "        \n",
    "def constructTree(pre, size):\n",
    "    #code here\n",
    "    \n",
    "  \n",
    "    # The first element of pre[] is always root \n",
    "    root = Node(pre[0]) \n",
    "\n",
    "    s = [] \n",
    "\n",
    "    # append root \n",
    "    s.append(root) \n",
    "\n",
    "    i = 1\n",
    "\n",
    "    # Iterate through rest of the size-1 \n",
    "    # items of given preorder array \n",
    "    while ( i < size):  \n",
    "        temp = None\n",
    "\n",
    "        # Keep on popping while the next value  \n",
    "        # is greater than stack's top value.  \n",
    "        while (len(s) > 0 and pre[i] > s[-1].data):  \n",
    "            temp = s.pop() \n",
    "            print(temp.data)\n",
    "          \n",
    "        # Make this greater value as the right child \n",
    "        # and append it to the stack \n",
    "        if (temp != None):  \n",
    "            temp.right = Node(pre[i]) \n",
    "            s.append(temp.right) \n",
    "#             for j in s:\n",
    "#                 print(j.data)\n",
    "          \n",
    "        # If the next value is less than the stack's top \n",
    "        # value, make this value as the left child of the  \n",
    "        # stack's top node. append the new node to stack \n",
    "        else : \n",
    "            temp = s[-1] \n",
    "            temp.left = Node(pre[i]) \n",
    "            s.append(temp.left) \n",
    "#             for j in s:\n",
    "#                 print(j.data)\n",
    "        i = i + 1\n",
    "        \n",
    "        print (temp.data)\n",
    "#         for j in s:\n",
    "#             print(j.data)\n",
    "      \n",
    "    return root \n",
    "\n",
    "    \n"
   ]
  },
  {
   "cell_type": "code",
   "execution_count": 23,
   "metadata": {},
   "outputs": [
    {
     "name": "stdout",
     "output_type": "stream",
     "text": [
      "40\n",
      "30\n",
      "30\n",
      "35\n",
      "40\n",
      "40\n",
      "80\n",
      "80\n",
      "35 30 100 80 40 \n"
     ]
    }
   ],
   "source": [
    "#{ \n",
    "#  Driver Code Starts\n",
    "#Initial Template for Python 3\n",
    "\n",
    "#contributed by RavinderSinghPB\n",
    "def postOrd(root):\n",
    "    if not root:\n",
    "        return\n",
    "    postOrd(root.left)\n",
    "    postOrd(root.right)\n",
    "    print(root.data,end=' ')\n",
    "\n",
    "if __name__ == '__main__':\n",
    "    pre= [40,30,35,80,100]\n",
    "    size = len(pre)\n",
    "    \n",
    "    root=constructTree(pre,size)\n",
    "\n",
    "    postOrd(root)\n",
    "    print()\n",
    "    \n",
    "# } Driver Code Ends"
   ]
  },
  {
   "cell_type": "code",
   "execution_count": null,
   "metadata": {},
   "outputs": [],
   "source": []
  }
 ],
 "metadata": {
  "kernelspec": {
   "display_name": "Python 3",
   "language": "python",
   "name": "python3"
  },
  "language_info": {
   "codemirror_mode": {
    "name": "ipython",
    "version": 3
   },
   "file_extension": ".py",
   "mimetype": "text/x-python",
   "name": "python",
   "nbconvert_exporter": "python",
   "pygments_lexer": "ipython3",
   "version": "3.7.6"
  }
 },
 "nbformat": 4,
 "nbformat_minor": 4
}
