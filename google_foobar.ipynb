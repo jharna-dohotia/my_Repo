{
 "cells": [
  {
   "cell_type": "markdown",
   "metadata": {},
   "source": [
    "## Google Foobar"
   ]
  },
  {
   "cell_type": "markdown",
   "metadata": {},
   "source": [
    "## 1: List elimination\n",
    "**Given a list of numerical elements(with recurrence) and an integer n.\n",
    "Eliminate all elements i, where count of i > n**"
   ]
  },
  {
   "cell_type": "code",
   "execution_count": 90,
   "metadata": {},
   "outputs": [],
   "source": [
    "def solution(data, n): \n",
    "    # Your code here\n",
    "    nums = []\n",
    "    for i in data:\n",
    "        if data.count(i) > n:\n",
    "            nums.append(i)\n",
    "    for i in nums:\n",
    "         data = list(filter((i).__ne__,data))\n",
    "   \n",
    "    return data"
   ]
  },
  {
   "cell_type": "code",
   "execution_count": 91,
   "metadata": {},
   "outputs": [
    {
     "name": "stdout",
     "output_type": "stream",
     "text": [
      "[1, 4, 5, 7]\n"
     ]
    }
   ],
   "source": [
    "print(solution([1,2,2,3,3,3,4,5,6,6,7],1))"
   ]
  },
  {
   "cell_type": "markdown",
   "metadata": {},
   "source": [
    "## 2.1: Sorting maintenance version numbers\n",
    "\n",
    "**Sorting version numbers. If list contains x, x.0 and x.0.0 then consider length and thus, x comes first**"
   ]
  },
  {
   "cell_type": "code",
   "execution_count": 92,
   "metadata": {},
   "outputs": [],
   "source": [
    "el = [\"1.0.0\",\"1.0\",\"1\", \"1.0.1\" ,\"1.1\", \"2.0.3\", \"1.2\", \"2.1\"]\n",
    "el.sort(key = lambda x: list(map(int, x.split(\".\"))))"
   ]
  },
  {
   "cell_type": "code",
   "execution_count": 93,
   "metadata": {},
   "outputs": [
    {
     "data": {
      "text/plain": [
       "['1', '1.0', '1.0.0', '1.0.1', '1.1', '1.2', '2.0.3', '2.1']"
      ]
     },
     "execution_count": 93,
     "metadata": {},
     "output_type": "execute_result"
    }
   ],
   "source": [
    "el"
   ]
  },
  {
   "cell_type": "markdown",
   "metadata": {},
   "source": [
    "## 2.2: Knight's Tour Problem\n",
    "**Given:** \n",
    "* chessboard marked 0 - 63 and a Knight. \n",
    "* two numbers A - initial position, B - final position\n",
    "\n",
    "*Find out the number of minimum moves required to reach **B** from **A**, given a knight moves only in L pattern*"
   ]
  },
  {
   "cell_type": "code",
   "execution_count": 94,
   "metadata": {},
   "outputs": [],
   "source": [
    "def knightsTourSolution(src,des):\n",
    "        \n",
    "    N = 8\n",
    "    chess = [[(j)+N*i for j in range(0,N)] for i in range(0,N)]\n",
    "\n",
    "    # Helper functions to calculate indexes of given numbers\n",
    "    def index_2d(chess, v):\n",
    "        for i, x in enumerate(chess):\n",
    "            if v in x:\n",
    "                return ([i, x.index(v)])\n",
    "    def pos(src,des):\n",
    "        x,y = index_2d(chess, src) , index_2d(chess, des)\n",
    "        return ([x,y])\n",
    "    \n",
    "    #Helper function to check if Knight move is valid\n",
    "    def valid(x,y,N):\n",
    "            if (x >= 0 and x < N and y >= 0 and y < N):  \n",
    "                return True\n",
    "            return False   \n",
    "\n",
    "    \n",
    "    def KnightTour(s, d, N): \n",
    "\n",
    "        #Initializing possible moves\n",
    "        dx = [2, 2, -2, -2, 1, 1, -1, -1] \n",
    "        dy = [1, -1, 1, -1, 2, -2, 2, -2] \n",
    "\n",
    "        #Initializing empty queue\n",
    "        queue = [] \n",
    "\n",
    "        queue.append([s[0], s[1], 0]) \n",
    "\n",
    "        visited = [[False for i in range(0,N)]  \n",
    "                          for j in range(0,N)] \n",
    "\n",
    "        visited[s[0]][s[1]] = True\n",
    "\n",
    "        #BFS to find shortest path\n",
    "        while(len(queue) > 0): \n",
    "\n",
    "            t = queue[0] \n",
    "            queue.pop(0) \n",
    "\n",
    "            # if current square is equal to target square\n",
    "            # return distance \n",
    "            if(t[0] == d[0] and \n",
    "               t[1] == d[1]): \n",
    "                return t[2] \n",
    "\n",
    "            # else iterate for all possible moves \n",
    "            for i in range(0,N): \n",
    "\n",
    "                x = t[0] + dx[i] \n",
    "                y = t[1] + dy[i] \n",
    "\n",
    "                if(valid(x, y, N) and not visited[x][y]): \n",
    "                    visited[x][y] = True\n",
    "                    queue.append([x, y, t[2] + 1])\n",
    "\n",
    "\n",
    "    s,d = pos(src,des)\n",
    "\n",
    "    res = KnightTour(s, d, N)\n",
    "    return res"
   ]
  },
  {
   "cell_type": "code",
   "execution_count": 95,
   "metadata": {},
   "outputs": [
    {
     "name": "stdout",
     "output_type": "stream",
     "text": [
      "3\n"
     ]
    }
   ],
   "source": [
    "print (knightsTourSolution(0,1))"
   ]
  },
  {
   "cell_type": "markdown",
   "metadata": {},
   "source": [
    "## 3.1 Bunnies Escape"
   ]
  },
  {
   "cell_type": "code",
   "execution_count": 98,
   "metadata": {},
   "outputs": [],
   "source": [
    "def answer(maze):\n",
    "    \n",
    "    def escape(x0, y0, maze):\n",
    "        c = len(maze[0])\n",
    "        r = len(maze)\n",
    "        board = [[None for i in range(c)] for i in range(r)]\n",
    "        board[x0][y0] = 1\n",
    "\n",
    "        queue = [[x0, y0]]\n",
    "        #Initializing possible moves\n",
    "        dx = [0,0,1,-1]\n",
    "        dy = [1,-1,0,0]\n",
    "        \n",
    "        while queue:\n",
    "            t = queue.pop(0)\n",
    "            \n",
    "            for i in range(len(dx)):\n",
    "                x, y = t[0] + dx[i], t[1] + dy[i]\n",
    "                if 0 <= x < r and 0 <= y < c:\n",
    "                    if board[x][y] is None:\n",
    "                        board[x][y] = board[t[0]][t[1]] + 1\n",
    "                        if maze[x][y] == 1 :\n",
    "                            continue\n",
    "                        queue.append([x, y])               \n",
    "        return board\n",
    "\n",
    "    w = len(maze[0])\n",
    "    h = len(maze)\n",
    "    tb = escape(0, 0, maze)\n",
    "    bt = escape(h-1, w-1, maze)\n",
    "\n",
    "    \n",
    "    board = []\n",
    "\n",
    "    ans = 2 ** 32-1\n",
    "    for i in range(h):\n",
    "        for j in range(w):\n",
    "            if tb[i][j] and bt[i][j]:\n",
    "                ans = min(tb[i][j] + bt[i][j] - 1, ans)\n",
    "                #print(ans)\n",
    "    return ans\n",
    "\n"
   ]
  },
  {
   "cell_type": "code",
   "execution_count": 100,
   "metadata": {},
   "outputs": [
    {
     "name": "stdout",
     "output_type": "stream",
     "text": [
      "21\n"
     ]
    }
   ],
   "source": [
    "#Driver Code\n",
    "maze = [[0, 0, 0, 0, 0, 0],[1, 1, 1, 1, 1, 0],[1, 1, 1, 1, 1, 1],[0, 0, 0, 0, 0, 0],[0, 1, 1, 1, 1, 1],[0, 0, 0, 0, 0, 0]] #Answer 21\n",
    "#maze = [[0, 1, 1, 0], [0, 0, 0, 1], [1, 1, 0, 0], [1, 1, 1, 0]] #Answer 7\n",
    "#maze = [[0,1,0,0,0],[0,0,0,1,0],[1,1,1,1,0]] #Answer 7\n",
    "#maze = [[0,1,1,1],[0,1,0,0],[1,0,1,0],[1,1,0,0]] #Answer 7\n",
    "#maze = [[0, 0, 0, 0, 0, 0], [1, 1, 1, 1, 1, 0], [0, 0, 0, 0, 0, 0], [0, 1, 1, 1, 1, 1], [0, 1, 1, 1, 1, 1], [0, 0, 0, 0, 0, 0]] #Answer 11\n",
    "print (answer(maze))"
   ]
  },
  {
   "cell_type": "markdown",
   "metadata": {},
   "source": [
    "## 3.2 Lucky Triples"
   ]
  },
  {
   "cell_type": "code",
   "execution_count": 73,
   "metadata": {},
   "outputs": [],
   "source": [
    "def answer(l):\n",
    "    triples = 0\n",
    "    pairs = [0]*len(l)\n",
    "    \n",
    "    for i in range(1, len(l)-1):\n",
    "        for j in range(i):\n",
    "            #print(\"Loop 1:\")\n",
    "            #print(l[i],l[j])\n",
    "            if l[i]%l[j]==0:\n",
    "                pairs[i]+=1\n",
    "    print (pairs)\n",
    "    for i in range(2,len(l)):\n",
    "        for j in range(1,i):\n",
    "            print(l[i],l[j])\n",
    "            if l[i]%l[j]==0:\n",
    "                triples += pairs[j]\n",
    "                print (triples)\n",
    "    \n",
    "    return triples\n",
    "                \n",
    "        "
   ]
  },
  {
   "cell_type": "code",
   "execution_count": 74,
   "metadata": {},
   "outputs": [
    {
     "name": "stdout",
     "output_type": "stream",
     "text": [
      "[0, 1, 1, 2, 1, 0]\n",
      "3 2\n",
      "4 2\n",
      "1\n",
      "4 3\n",
      "5 2\n",
      "5 3\n",
      "5 4\n",
      "6 2\n",
      "2\n",
      "6 3\n",
      "3\n",
      "6 4\n",
      "6 5\n",
      "3\n"
     ]
    }
   ],
   "source": [
    "print (answer(l))"
   ]
  }
 ],
 "metadata": {
  "kernelspec": {
   "display_name": "Python 3",
   "language": "python",
   "name": "python3"
  },
  "language_info": {
   "codemirror_mode": {
    "name": "ipython",
    "version": 3
   },
   "file_extension": ".py",
   "mimetype": "text/x-python",
   "name": "python",
   "nbconvert_exporter": "python",
   "pygments_lexer": "ipython3",
   "version": "3.7.6"
  }
 },
 "nbformat": 4,
 "nbformat_minor": 4
}
