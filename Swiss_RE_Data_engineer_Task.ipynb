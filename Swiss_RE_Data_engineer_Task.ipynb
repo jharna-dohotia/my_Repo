{
  "nbformat": 4,
  "nbformat_minor": 0,
  "metadata": {
    "colab": {
      "provenance": [],
      "authorship_tag": "ABX9TyOD4EMXNruO2Ni7jAk20QhP"
    },
    "kernelspec": {
      "name": "python3",
      "display_name": "Python 3"
    },
    "language_info": {
      "name": "python"
    }
  },
  "cells": [
    {
      "cell_type": "markdown",
      "source": [
        "# Swiss RE Data Engineer Task"
      ],
      "metadata": {
        "id": "qPJzeGUs9AY-"
      }
    },
    {
      "cell_type": "code",
      "source": [
        "!sudo apt update\n",
        "!apt-get install openjdk-8-jdk-headless -qq > /dev/null\n",
        "#Check this site for the latest download link https://www.apache.org/dyn/closer.lua/spark/spark-3.2.1/spark-3.2.1-bin-hadoop3.2.tgz\n",
        "!wget -q https://dlcdn.apache.org/spark/spark-3.2.1/spark-3.2.1-bin-hadoop3.2.tgz\n",
        "!tar xf spark-3.2.1-bin-hadoop3.2.tgz\n",
        "!pip install -q findspark\n",
        "!pip install pyspark\n",
        "!pip install py4j\n",
        "\n",
        "import os\n",
        "import sys\n",
        "# os.environ[\"JAVA_HOME\"] = \"/usr/lib/jvm/java-8-openjdk-amd64\"\n",
        "# os.environ[\"SPARK_HOME\"] = \"/content/spark-3.2.1-bin-hadoop3.2\"\n",
        "\n",
        "\n",
        "import findspark\n",
        "findspark.init()\n",
        "findspark.find()\n"
      ],
      "metadata": {
        "colab": {
          "base_uri": "https://localhost:8080/",
          "height": 584
        },
        "id": "e-5fBh7TB0Zf",
        "outputId": "252aacd5-29f2-4c6e-dc74-05d804082164"
      },
      "execution_count": 8,
      "outputs": [
        {
          "output_type": "stream",
          "name": "stdout",
          "text": [
            "\u001b[33m\r0% [Working]\u001b[0m\r            \rGet:1 https://cloud.r-project.org/bin/linux/ubuntu jammy-cran40/ InRelease [3,626 B]\n",
            "\u001b[33m\r0% [Waiting for headers] [Connecting to security.ubuntu.com] [1 InRelease 0 B/3\u001b[0m\u001b[33m\r0% [Waiting for headers] [Connecting to security.ubuntu.com] [Connecting to ppa\u001b[0m\r                                                                               \rHit:2 http://archive.ubuntu.com/ubuntu jammy InRelease\n",
            "\u001b[33m\r0% [Waiting for headers] [Connecting to security.ubuntu.com (91.189.91.82)] [Co\u001b[0m\r                                                                               \rHit:3 https://developer.download.nvidia.com/compute/cuda/repos/ubuntu2204/x86_64  InRelease\n",
            "\u001b[33m\r0% [Waiting for headers] [Connecting to security.ubuntu.com (91.189.91.82)] [Co\u001b[0m\r                                                                               \rGet:4 http://archive.ubuntu.com/ubuntu jammy-updates InRelease [128 kB]\n",
            "Get:5 http://security.ubuntu.com/ubuntu jammy-security InRelease [129 kB]\n",
            "Hit:6 http://archive.ubuntu.com/ubuntu jammy-backports InRelease\n",
            "Hit:7 https://ppa.launchpadcontent.net/c2d4u.team/c2d4u4.0+/ubuntu jammy InRelease\n",
            "Hit:8 https://ppa.launchpadcontent.net/deadsnakes/ppa/ubuntu jammy InRelease\n",
            "Get:9 http://archive.ubuntu.com/ubuntu jammy-updates/universe amd64 Packages [1,392 kB]\n",
            "Hit:10 https://ppa.launchpadcontent.net/graphics-drivers/ppa/ubuntu jammy InRelease\n",
            "Hit:11 https://ppa.launchpadcontent.net/ubuntugis/ppa/ubuntu jammy InRelease\n",
            "Fetched 1,652 kB in 2s (808 kB/s)\n",
            "Reading package lists... Done\n",
            "Building dependency tree... Done\n",
            "Reading state information... Done\n",
            "45 packages can be upgraded. Run 'apt list --upgradable' to see them.\n",
            "tar: spark-3.2.1-bin-hadoop3.2.tgz: Cannot open: No such file or directory\n",
            "tar: Error is not recoverable: exiting now\n",
            "Collecting pyspark\n",
            "  Downloading pyspark-3.5.1.tar.gz (317.0 MB)\n",
            "\u001b[2K     \u001b[90m━━━━━━━━━━━━━━━━━━━━━━━━━━━━━━━━━━━━━━━━\u001b[0m \u001b[32m317.0/317.0 MB\u001b[0m \u001b[31m3.5 MB/s\u001b[0m eta \u001b[36m0:00:00\u001b[0m\n",
            "\u001b[?25h  Preparing metadata (setup.py) ... \u001b[?25l\u001b[?25hdone\n",
            "Requirement already satisfied: py4j==0.10.9.7 in /usr/local/lib/python3.10/dist-packages (from pyspark) (0.10.9.7)\n",
            "Building wheels for collected packages: pyspark\n",
            "  Building wheel for pyspark (setup.py) ... \u001b[?25l\u001b[?25hdone\n",
            "  Created wheel for pyspark: filename=pyspark-3.5.1-py2.py3-none-any.whl size=317488491 sha256=a0d13bbc15337e582bdd031098d9f1c327d9e8c876290bed2988ddee05f3d2dd\n",
            "  Stored in directory: /root/.cache/pip/wheels/80/1d/60/2c256ed38dddce2fdd93be545214a63e02fbd8d74fb0b7f3a6\n",
            "Successfully built pyspark\n",
            "Installing collected packages: pyspark\n",
            "Successfully installed pyspark-3.5.1\n",
            "Requirement already satisfied: py4j in /usr/local/lib/python3.10/dist-packages (0.10.9.7)\n"
          ]
        },
        {
          "output_type": "execute_result",
          "data": {
            "text/plain": [
              "'/usr/local/lib/python3.10/dist-packages/pyspark'"
            ],
            "application/vnd.google.colaboratory.intrinsic+json": {
              "type": "string"
            }
          },
          "metadata": {},
          "execution_count": 8
        }
      ]
    },
    {
      "cell_type": "code",
      "source": [
        "import pyspark\n",
        "\n",
        "from pyspark.sql import DataFrame, SparkSession\n",
        "from typing import List\n",
        "import pyspark.sql.types as T\n",
        "import pyspark.sql.functions as F\n",
        "\n",
        "spark= SparkSession \\\n",
        "       .builder \\\n",
        "       .appName(\"Our First Spark Example\") \\\n",
        "       .getOrCreate()\n",
        "\n",
        "spark"
      ],
      "metadata": {
        "colab": {
          "base_uri": "https://localhost:8080/",
          "height": 216
        },
        "id": "T5Jxagaey4VD",
        "outputId": "489e7a38-e11e-4f1e-a759-4ae84fc295b3"
      },
      "execution_count": 9,
      "outputs": [
        {
          "output_type": "execute_result",
          "data": {
            "text/plain": [
              "<pyspark.sql.session.SparkSession at 0x7e5b8cf084c0>"
            ],
            "text/html": [
              "\n",
              "            <div>\n",
              "                <p><b>SparkSession - in-memory</b></p>\n",
              "                \n",
              "        <div>\n",
              "            <p><b>SparkContext</b></p>\n",
              "\n",
              "            <p><a href=\"http://bc4067f3e038:4040\">Spark UI</a></p>\n",
              "\n",
              "            <dl>\n",
              "              <dt>Version</dt>\n",
              "                <dd><code>v3.5.1</code></dd>\n",
              "              <dt>Master</dt>\n",
              "                <dd><code>local[*]</code></dd>\n",
              "              <dt>AppName</dt>\n",
              "                <dd><code>Our First Spark Example</code></dd>\n",
              "            </dl>\n",
              "        </div>\n",
              "        \n",
              "            </div>\n",
              "        "
            ]
          },
          "metadata": {},
          "execution_count": 9
        }
      ]
    },
    {
      "cell_type": "markdown",
      "source": [
        "#Importing necessary libraries"
      ],
      "metadata": {
        "id": "ez2j3D6Rz9s-"
      }
    },
    {
      "cell_type": "code",
      "source": [
        "from pyspark.sql import *\n",
        "from pyspark.sql.functions import *\n",
        "from pyspark.sql.types import StructType, StructField, IntegerType, LongType, StringType, FloatType, DateType, DecimalType\n",
        "from datetime import datetime\n",
        "import requests\n",
        "import json\n",
        "from pyspark.sql.functions import udf, col, explode\n",
        "from pyspark.sql.types import StructType, StructField, IntegerType, StringType, ArrayType\n",
        "from pyspark.sql import Row"
      ],
      "metadata": {
        "id": "a5wPR8Ez0AYA"
      },
      "execution_count": 10,
      "outputs": []
    },
    {
      "cell_type": "markdown",
      "source": [
        "# Data Ingestion\n",
        "\n",
        "Assumptions:\n",
        "Assuming data is stored in a Database named - **Europa** with\n",
        "Tables:\n",
        "*   Contract\n",
        "*   Claim\n",
        "\n",
        "We would perform the following spark operations:\n",
        "\n",
        "contract = spark.sql(\"select * from europa.contract\")\n",
        "\n",
        "claims = spark.sql(\"select * from europa.claim\")\n",
        "\n",
        "However, to illustrate the transformations, I have chosen to read the supplied data into manually created dataframes\n",
        "\n"
      ],
      "metadata": {
        "id": "LVKKQTEf8AUL"
      }
    },
    {
      "cell_type": "markdown",
      "source": [
        "Reading Data for **Contract**"
      ],
      "metadata": {
        "id": "e2TX7HPx04uK"
      }
    },
    {
      "cell_type": "code",
      "source": [
        "contract_schema = StructType([StructField(\"SOURCE_SYSTEM\",StringType(),nullable=False),\n",
        "                              StructField(\"CONTRACT_ID\", IntegerType() ,nullable = False),\n",
        "                              StructField(\"CONTRACT_TYPE\",StringType(),nullable=True),\n",
        "                              StructField(\"INSURED_PERIOD_FROM\",StringType(),nullable=True),\n",
        "                              StructField (\"INSURED_PERIOD_TO\", StringType(), nullable=True),\n",
        "                              StructField(\"CREATION_DATE\",StringType(),nullable=True)])\n",
        "\n",
        "contract_data = [(\"Contract_SR_Europa_3\", 408124123, \"Direct\" , \"01.01.2015\", \"01.01.2099\", \"17.01.2022 13:42\"),\n",
        " (\"Contract_SR_Europa_3\", 46784575, \"Direct\", \"01.01.2015\", \"01.01.2099\", \"17.01.2022 13:42\"),\n",
        " (\"Contract_SR_Europa_3\",97563756,\"\", \"01.01.2015\", \"01.01.2099\", \"17.01.2022 13:42\"),\n",
        "  (\"Contract_SR_Europa_3\", 13767503, \"Reinsurance\", \"01.01.2015\", \"01.01.2099\",\"17.01.2022 13:42\"),\n",
        "  (\"Contract_SR_Europa_3\", 656948536,\"\", \"01.01.2015\", \"01.01.2099\", \"17.01.2022 13:42\")]\n",
        "\n",
        "contract = spark.createDataFrame(contract_data, contract_schema)\n",
        "contract.show()"
      ],
      "metadata": {
        "colab": {
          "base_uri": "https://localhost:8080/"
        },
        "id": "VNNiituA07V5",
        "outputId": "44acb8fc-d240-4b0d-986e-31b405d6bc99"
      },
      "execution_count": 11,
      "outputs": [
        {
          "output_type": "stream",
          "name": "stdout",
          "text": [
            "+--------------------+-----------+-------------+-------------------+-----------------+----------------+\n",
            "|       SOURCE_SYSTEM|CONTRACT_ID|CONTRACT_TYPE|INSURED_PERIOD_FROM|INSURED_PERIOD_TO|   CREATION_DATE|\n",
            "+--------------------+-----------+-------------+-------------------+-----------------+----------------+\n",
            "|Contract_SR_Europa_3|  408124123|       Direct|         01.01.2015|       01.01.2099|17.01.2022 13:42|\n",
            "|Contract_SR_Europa_3|   46784575|       Direct|         01.01.2015|       01.01.2099|17.01.2022 13:42|\n",
            "|Contract_SR_Europa_3|   97563756|             |         01.01.2015|       01.01.2099|17.01.2022 13:42|\n",
            "|Contract_SR_Europa_3|   13767503|  Reinsurance|         01.01.2015|       01.01.2099|17.01.2022 13:42|\n",
            "|Contract_SR_Europa_3|  656948536|             |         01.01.2015|       01.01.2099|17.01.2022 13:42|\n",
            "+--------------------+-----------+-------------+-------------------+-----------------+----------------+\n",
            "\n"
          ]
        }
      ]
    },
    {
      "cell_type": "markdown",
      "source": [
        "Cleaning up the **Contract** data and casting to correct data types"
      ],
      "metadata": {
        "id": "vtTyRIRV23ac"
      }
    },
    {
      "cell_type": "code",
      "source": [
        "contract = contract.withColumn(\"INSURED_PERIOD_FROM\",to_date(col(\"INSURED_PERIOD_FROM\"),'dd.MM.yyyy').cast(\"date\"))\\\n",
        ".withColumn(\"INSURED_PERIOD_TO\",to_date(col(\"INSURED_PERIOD_TO\"), \"dd.MM.yyyy\").cast(\"date\"))\\\n",
        ".withColumn(\"CREATION_DATE\", to_timestamp(col('CREATION_DATE'), \"dd.MM.yyyy HH:mm\").cast(\"timestamp\"))\n",
        "contract.show()"
      ],
      "metadata": {
        "colab": {
          "base_uri": "https://localhost:8080/"
        },
        "id": "rYumjoLr1jAK",
        "outputId": "2ab3d5f0-291e-49fe-cfba-83e1d5f624bf"
      },
      "execution_count": 12,
      "outputs": [
        {
          "output_type": "stream",
          "name": "stdout",
          "text": [
            "+--------------------+-----------+-------------+-------------------+-----------------+-------------------+\n",
            "|       SOURCE_SYSTEM|CONTRACT_ID|CONTRACT_TYPE|INSURED_PERIOD_FROM|INSURED_PERIOD_TO|      CREATION_DATE|\n",
            "+--------------------+-----------+-------------+-------------------+-----------------+-------------------+\n",
            "|Contract_SR_Europa_3|  408124123|       Direct|         2015-01-01|       2099-01-01|2022-01-17 13:42:00|\n",
            "|Contract_SR_Europa_3|   46784575|       Direct|         2015-01-01|       2099-01-01|2022-01-17 13:42:00|\n",
            "|Contract_SR_Europa_3|   97563756|             |         2015-01-01|       2099-01-01|2022-01-17 13:42:00|\n",
            "|Contract_SR_Europa_3|   13767503|  Reinsurance|         2015-01-01|       2099-01-01|2022-01-17 13:42:00|\n",
            "|Contract_SR_Europa_3|  656948536|             |         2015-01-01|       2099-01-01|2022-01-17 13:42:00|\n",
            "+--------------------+-----------+-------------+-------------------+-----------------+-------------------+\n",
            "\n"
          ]
        }
      ]
    },
    {
      "cell_type": "code",
      "source": [
        "for i in contract.schema:\n",
        "  print(i)"
      ],
      "metadata": {
        "colab": {
          "base_uri": "https://localhost:8080/"
        },
        "id": "JKb9EnpU5Y4b",
        "outputId": "994d1a40-7466-4566-e4a3-ee8ee2b4d494"
      },
      "execution_count": 13,
      "outputs": [
        {
          "output_type": "stream",
          "name": "stdout",
          "text": [
            "StructField('SOURCE_SYSTEM', StringType(), False)\n",
            "StructField('CONTRACT_ID', IntegerType(), False)\n",
            "StructField('CONTRACT_TYPE', StringType(), True)\n",
            "StructField('INSURED_PERIOD_FROM', DateType(), True)\n",
            "StructField('INSURED_PERIOD_TO', DateType(), True)\n",
            "StructField('CREATION_DATE', TimestampType(), True)\n"
          ]
        }
      ]
    },
    {
      "cell_type": "markdown",
      "source": [
        "Reading Data for **Claims**"
      ],
      "metadata": {
        "id": "5FWyfpC_4emn"
      }
    },
    {
      "cell_type": "code",
      "source": [
        "claim_schema = StructType([StructField(\"SOURCE_SYSTEM\",StringType(),nullable=False),\n",
        "                              StructField(\"CLAIM_ID\", StringType() ,nullable = False),\n",
        "                              StructField(\"CONTRACT_SOURCE_SYSTEM\",StringType(),nullable = False),\n",
        "                              StructField(\"CONTRACT_ID\",IntegerType(),nullable=False),\n",
        "                              StructField(\"CLAIM_TYPE\", StringType(), nullable=True),\n",
        "                              StructField(\"DATE_OF_LOSS\",StringType(),nullable=True),\n",
        "                              StructField(\"AMOUNT\",StringType(),nullable=True),\n",
        "                              StructField(\"CREATION_DATE\",StringType(),nullable=True)])\n",
        "\n",
        "claim_data = [(\"Claim_SR_Europa_3\",\"CL_68545123\",\"Contract_SR_Europa_3\",97563756,\"2\",\"14.02.2021\",523.21,\"17.01.2022 14:45\"),\n",
        "                 (\"Claim_SR_Europa_3\",\"CL_962234\",\"Contract_SR_Europa_4\",408124123,\"1\",\"30.01.2021\",52369.0,\"17.01.2022 14:46\"),\n",
        "                 (\"Claim_SR_Europa_3\",\"CL_895168\",\"Contract_SR_Europa_3\",13767503,\"\",\"02.09.2020\",98465,\"17.01.2022 14:45\"),\n",
        "                 (\"Claim_SR_Europa_3\",\"CX_12066501\",\"Contract_SR_Europa_3\",656948536,\"2\",\"04.01.2022\",9000,\"17.01.2022 14:45\"),\n",
        "                 (\"Claim_SR_Europa_3\",\"RX_9845163\",\"Contract_SR_Europa_3\",656948536,\"2\",\"04.06.2015\",11000,\"17.01.2022 14:45\"),\n",
        "                 (\"Claim_SR_Europa_3\",\"CL_39904634\",\"Contract_SR_Europa_3\",656948536,\"2\",\"04.11.2020\",11000,\"17.01.2022 14:46\"),\n",
        "                 (\"Claim_SR_Europa_3\",\"U_7065313\",\"Contract_SR_Europa_3\",46589516,\"1\",\"29.09.2021\",11000,\"17.01.2022 14:46\")\n",
        "]\n",
        "\n",
        "claim = spark.createDataFrame(claim_data, claim_schema)\n",
        "claim.show()"
      ],
      "metadata": {
        "colab": {
          "base_uri": "https://localhost:8080/"
        },
        "id": "k5YUp_lF35QP",
        "outputId": "a5636072-b799-494b-a1c7-bce1e72feab5"
      },
      "execution_count": 14,
      "outputs": [
        {
          "output_type": "stream",
          "name": "stdout",
          "text": [
            "+-----------------+-----------+----------------------+-----------+----------+------------+-------+----------------+\n",
            "|    SOURCE_SYSTEM|   CLAIM_ID|CONTRACT_SOURCE_SYSTEM|CONTRACT_ID|CLAIM_TYPE|DATE_OF_LOSS| AMOUNT|   CREATION_DATE|\n",
            "+-----------------+-----------+----------------------+-----------+----------+------------+-------+----------------+\n",
            "|Claim_SR_Europa_3|CL_68545123|  Contract_SR_Europa_3|   97563756|         2|  14.02.2021| 523.21|17.01.2022 14:45|\n",
            "|Claim_SR_Europa_3|  CL_962234|  Contract_SR_Europa_4|  408124123|         1|  30.01.2021|52369.0|17.01.2022 14:46|\n",
            "|Claim_SR_Europa_3|  CL_895168|  Contract_SR_Europa_3|   13767503|          |  02.09.2020|  98465|17.01.2022 14:45|\n",
            "|Claim_SR_Europa_3|CX_12066501|  Contract_SR_Europa_3|  656948536|         2|  04.01.2022|   9000|17.01.2022 14:45|\n",
            "|Claim_SR_Europa_3| RX_9845163|  Contract_SR_Europa_3|  656948536|         2|  04.06.2015|  11000|17.01.2022 14:45|\n",
            "|Claim_SR_Europa_3|CL_39904634|  Contract_SR_Europa_3|  656948536|         2|  04.11.2020|  11000|17.01.2022 14:46|\n",
            "|Claim_SR_Europa_3|  U_7065313|  Contract_SR_Europa_3|   46589516|         1|  29.09.2021|  11000|17.01.2022 14:46|\n",
            "+-----------------+-----------+----------------------+-----------+----------+------------+-------+----------------+\n",
            "\n"
          ]
        }
      ]
    },
    {
      "cell_type": "markdown",
      "source": [
        "Cleaning up the **Claim** data and casting to correct data types"
      ],
      "metadata": {
        "id": "pIoFtFM17g_J"
      }
    },
    {
      "cell_type": "code",
      "source": [
        "claim = claim.withColumn(\"DATE_OF_LOSS\",to_date(col(\"DATE_OF_LOSS\"),'dd.MM.yyyy').cast(\"date\"))\\\n",
        ".withColumn(\"AMOUNT\",col(\"AMOUNT\").cast(\"decimal(16,5)\"))\\\n",
        ".withColumn(\"CREATION_DATE\", to_timestamp(col('CREATION_DATE'), \"dd.MM.yyyy HH:mm\").cast(\"timestamp\"))\n",
        "claim.show()"
      ],
      "metadata": {
        "colab": {
          "base_uri": "https://localhost:8080/"
        },
        "id": "Lm4KMO2j67hh",
        "outputId": "6d5218ef-ec82-491a-cb8f-ea2fb1231729"
      },
      "execution_count": 15,
      "outputs": [
        {
          "output_type": "stream",
          "name": "stdout",
          "text": [
            "+-----------------+-----------+----------------------+-----------+----------+------------+-----------+-------------------+\n",
            "|    SOURCE_SYSTEM|   CLAIM_ID|CONTRACT_SOURCE_SYSTEM|CONTRACT_ID|CLAIM_TYPE|DATE_OF_LOSS|     AMOUNT|      CREATION_DATE|\n",
            "+-----------------+-----------+----------------------+-----------+----------+------------+-----------+-------------------+\n",
            "|Claim_SR_Europa_3|CL_68545123|  Contract_SR_Europa_3|   97563756|         2|  2021-02-14|  523.21000|2022-01-17 14:45:00|\n",
            "|Claim_SR_Europa_3|  CL_962234|  Contract_SR_Europa_4|  408124123|         1|  2021-01-30|52369.00000|2022-01-17 14:46:00|\n",
            "|Claim_SR_Europa_3|  CL_895168|  Contract_SR_Europa_3|   13767503|          |  2020-09-02|98465.00000|2022-01-17 14:45:00|\n",
            "|Claim_SR_Europa_3|CX_12066501|  Contract_SR_Europa_3|  656948536|         2|  2022-01-04| 9000.00000|2022-01-17 14:45:00|\n",
            "|Claim_SR_Europa_3| RX_9845163|  Contract_SR_Europa_3|  656948536|         2|  2015-06-04|11000.00000|2022-01-17 14:45:00|\n",
            "|Claim_SR_Europa_3|CL_39904634|  Contract_SR_Europa_3|  656948536|         2|  2020-11-04|11000.00000|2022-01-17 14:46:00|\n",
            "|Claim_SR_Europa_3|  U_7065313|  Contract_SR_Europa_3|   46589516|         1|  2021-09-29|11000.00000|2022-01-17 14:46:00|\n",
            "+-----------------+-----------+----------------------+-----------+----------+------------+-----------+-------------------+\n",
            "\n"
          ]
        }
      ]
    },
    {
      "cell_type": "markdown",
      "source": [
        "Renaming CLAIM.CREATION_DATE to avoid ambiguity"
      ],
      "metadata": {
        "id": "kjA4LSWFO4UG"
      }
    },
    {
      "cell_type": "code",
      "source": [
        "claim = claim.withColumnRenamed(\"CREATION_DATE\",\"CLAIM_CREATION_DATE\")"
      ],
      "metadata": {
        "id": "olPJhDiYO9Uj"
      },
      "execution_count": 16,
      "outputs": []
    },
    {
      "cell_type": "code",
      "source": [
        "for i in claim.schema:\n",
        "  print(i)"
      ],
      "metadata": {
        "colab": {
          "base_uri": "https://localhost:8080/"
        },
        "id": "IU3kxdBS9Ra-",
        "outputId": "b890a33d-0e4b-4ed9-f8ee-bdb4a4261477"
      },
      "execution_count": 17,
      "outputs": [
        {
          "output_type": "stream",
          "name": "stdout",
          "text": [
            "StructField('SOURCE_SYSTEM', StringType(), False)\n",
            "StructField('CLAIM_ID', StringType(), False)\n",
            "StructField('CONTRACT_SOURCE_SYSTEM', StringType(), False)\n",
            "StructField('CONTRACT_ID', IntegerType(), False)\n",
            "StructField('CLAIM_TYPE', StringType(), True)\n",
            "StructField('DATE_OF_LOSS', DateType(), True)\n",
            "StructField('AMOUNT', DecimalType(16,5), True)\n",
            "StructField('CLAIM_CREATION_DATE', TimestampType(), True)\n"
          ]
        }
      ]
    },
    {
      "cell_type": "markdown",
      "source": [
        "#Transformations"
      ],
      "metadata": {
        "id": "Sr2IQNEZ74HT"
      }
    },
    {
      "cell_type": "markdown",
      "source": [
        "Assuming:\n",
        "1. Joining condition is on CONTRACT_ID\n",
        "2. Performing a outer join to get all available contracts and claims unless specified otherwise\n",
        "\n"
      ],
      "metadata": {
        "id": "aVMLIszAFiKM"
      }
    },
    {
      "cell_type": "code",
      "source": [
        "transformations = contract.join(claim,[contract.CONTRACT_ID == claim.CONTRACT_ID],'outer').drop(claim[\"CONTRACT_ID\"])"
      ],
      "metadata": {
        "id": "B9Y8V3AjAz64"
      },
      "execution_count": 18,
      "outputs": []
    },
    {
      "cell_type": "markdown",
      "source": [
        "Mappings"
      ],
      "metadata": {
        "id": "pEGFqdfGF8DR"
      }
    },
    {
      "cell_type": "code",
      "source": [
        "#CONTRACT_SOURCE_SYSTEM = Default to “Europe 3”\n",
        "transformations = transformations.withColumn(\"CONTRACT_SOURCE_SYSTEM\",lit('Europe 3'))\n",
        "\n",
        "#CONTRACT_SOURCE_SYSTEM_ID = CONTRACT.CONTRACT_ID\n",
        "transformations = transformations.withColumn(\"CONTRACT_SOURCE_SYSTEM_ID\",col(\"CONTRACT_ID\").cast(\"long\"))\n",
        "\n",
        "#SOURCE_SYSTEM_ID = CLAIM_ID without prefix (e.g. A_123 --> 123)\n",
        "#Assumption - assuming prefix is a string followed by an underscore '_' and selecting the latter half as SOURCE_SYSTEM_ID\n",
        "transformations = transformations.withColumn(\"SOURCE_SYSTEM_ID\",split(col(\"CLAIM_ID\"),'_')[1].cast(\"integer\"))\n",
        "\n",
        "#TRANSACTION_TYPE - \"Corporate\" if CLAIM_TYPE = 2 \"Private\" if CLAIM_TYPE = 1 \"Unknown\" if CLAIM_TYPE is empty\n",
        "transformations = transformations.withColumn(\"TRANSACTION_TYPE\",when(transformations.CLAIM_TYPE==2,\"Corporate\")\\\n",
        "                                             .when(transformations.CLAIM_TYPE==1,\"Private\")\\\n",
        "                                             .otherwise(\"Unknown\"))"
      ],
      "metadata": {
        "id": "Pexi8M2bB0yM"
      },
      "execution_count": 19,
      "outputs": []
    },
    {
      "cell_type": "code",
      "source": [
        "#TRANSACTION_DIRECTION - \"COINSURANCE\" when CLAIM_ID contains \"CL\" prefix \"REINSURANCE\" when CLAIM_ID contains \"RX\" prefix\n",
        "transformations = transformations.withColumn(\"TRANSACTION_DIRECTION\",when(split(col(\"CLAIM_ID\"),'_')[0]==\"CL\",\"COINSURANCE\")\\\n",
        "                                             .when(split(col(\"CLAIM_ID\"),'_')[0]==\"RX\",\"REINSURANCE\")\n",
        "                                             .otherwise('NULL'))"
      ],
      "metadata": {
        "id": "47zsAi2QFDPX"
      },
      "execution_count": 20,
      "outputs": []
    },
    {
      "cell_type": "code",
      "source": [
        "#CONFORMED_VALUE - CLAIM.AMOUNT\n",
        "transformations = transformations.withColumn(\"CONFORMED_VALUE\",col(\"AMOUNT\"))\n",
        "#BUSINESS_DATE - CLAIM.DATEOFLOSS mapped to format YYYY-MM-DD\n",
        "#Note: CLAIM.DATEOFLOSS already mapped to correct format during datatype cleanup\n",
        "transformations = transformations.withColumn(\"BUSINESS_DATE\",col('DATE_OF_LOSS'))"
      ],
      "metadata": {
        "id": "NaS-5MZ4Gj8k"
      },
      "execution_count": 21,
      "outputs": []
    },
    {
      "cell_type": "code",
      "source": [
        " #CREATION_DATE = CLAIM.CREATION_DATE mapped to format YYYY-MM-DD HH:mm:ss\n",
        " #Already mapped to correct format during datatype cleanup\n",
        " transformations = transformations.withColumn(\"CREATION_DATE\",claim[\"CLAIM_CREATION_DATE\"]).drop(contract[\"CREATION_DATE\"]).drop(claim[\"CLAIM_CREATION_DATE\"])\n",
        "\n",
        " #SYSTEM_TIMESTAMP System timestamp of creating the transaction\n",
        " transformations = transformations.withColumn(\"SYSTEM_TIMESTAMP\",date_format(current_timestamp(), 'yyyy-MM-dd HH:mm:ss').cast(\"timestamp\"))"
      ],
      "metadata": {
        "id": "CQLny39gHY-7"
      },
      "execution_count": 22,
      "outputs": []
    },
    {
      "cell_type": "code",
      "source": [
        "#NSE_ID Map -- CLAIM_ID to a unique id via rest API call for every input row: https://api.hashify.net/hash/md4/hex?value=CLAIM_ID\n",
        "## (Returns a JSON, take field \"Digest\" as result)\n",
        "\n",
        "#Creating function to execute restAPI for each CLAIM_ID\n",
        "def executeRestApi(CLAIM_ID):\n",
        "  #\n",
        "  res = None\n",
        "  # Make API request, get response object back, get \"Digest\" field from result text.\n",
        "  try:\n",
        "    res = requests.get(\"https://api.hashify.net/hash/md4/hex?value={}\".format(CLAIM_ID))\n",
        "  except Exception as e:\n",
        "    return e\n",
        "  if res != None and res.status_code == 200:\n",
        "    return json.loads(res.text)['Digest']\n",
        "  return None\n",
        "\n",
        "#Converting function exectueRestApi to UDF\n",
        "udf_executeRestApi = udf(lambda claim_id: executeRestApi(claim_id))\n",
        "\n",
        "#Mapping CLAIM_ID to get NSE_ID\n",
        "transformations = transformations.withColumn(\"NSE_ID\",udf_executeRestApi(col('CLAIM_ID')))"
      ],
      "metadata": {
        "id": "CsSKAn1dIHpt"
      },
      "execution_count": 23,
      "outputs": []
    },
    {
      "cell_type": "code",
      "source": [
        "transformations.show()"
      ],
      "metadata": {
        "colab": {
          "base_uri": "https://localhost:8080/"
        },
        "id": "5mZK-fNkK9lH",
        "outputId": "d3de027d-66aa-40ff-dfd9-f4911ee0b89b"
      },
      "execution_count": 24,
      "outputs": [
        {
          "output_type": "stream",
          "name": "stdout",
          "text": [
            "+--------------------+-----------+-------------+-------------------+-----------------+-------------------+-----------------+-----------+----------------------+----------+------------+-----------+-------------------------+----------------+----------------+---------------------+---------------+-------------+-------------------+--------------------+\n",
            "|       SOURCE_SYSTEM|CONTRACT_ID|CONTRACT_TYPE|INSURED_PERIOD_FROM|INSURED_PERIOD_TO|      CREATION_DATE|    SOURCE_SYSTEM|   CLAIM_ID|CONTRACT_SOURCE_SYSTEM|CLAIM_TYPE|DATE_OF_LOSS|     AMOUNT|CONTRACT_SOURCE_SYSTEM_ID|SOURCE_SYSTEM_ID|TRANSACTION_TYPE|TRANSACTION_DIRECTION|CONFORMED_VALUE|BUSINESS_DATE|   SYSTEM_TIMESTAMP|              NSE_ID|\n",
            "+--------------------+-----------+-------------+-------------------+-----------------+-------------------+-----------------+-----------+----------------------+----------+------------+-----------+-------------------------+----------------+----------------+---------------------+---------------+-------------+-------------------+--------------------+\n",
            "|Contract_SR_Europa_3|   13767503|  Reinsurance|         2015-01-01|       2099-01-01|2022-01-17 14:45:00|Claim_SR_Europa_3|  CL_895168|              Europe 3|          |  2020-09-02|98465.00000|                 13767503|          895168|         Unknown|          COINSURANCE|    98465.00000|   2020-09-02|2024-06-21 18:23:47|01ffa3820d8f2d942...|\n",
            "|                NULL|       NULL|         NULL|               NULL|             NULL|2022-01-17 14:46:00|Claim_SR_Europa_3|  U_7065313|              Europe 3|         1|  2021-09-29|11000.00000|                     NULL|         7065313|         Private|                 NULL|    11000.00000|   2021-09-29|2024-06-21 18:23:47|22e72db452e973fec...|\n",
            "|Contract_SR_Europa_3|   46784575|       Direct|         2015-01-01|       2099-01-01|               NULL|             NULL|       NULL|              Europe 3|      NULL|        NULL|       NULL|                 46784575|            NULL|         Unknown|                 NULL|           NULL|         NULL|2024-06-21 18:23:47|f24a18e62963e913f...|\n",
            "|Contract_SR_Europa_3|   97563756|             |         2015-01-01|       2099-01-01|2022-01-17 14:45:00|Claim_SR_Europa_3|CL_68545123|              Europe 3|         2|  2021-02-14|  523.21000|                 97563756|        68545123|       Corporate|          COINSURANCE|      523.21000|   2021-02-14|2024-06-21 18:23:47|238cf61c3a7e1574b...|\n",
            "|Contract_SR_Europa_3|  408124123|       Direct|         2015-01-01|       2099-01-01|2022-01-17 14:46:00|Claim_SR_Europa_3|  CL_962234|              Europe 3|         1|  2021-01-30|52369.00000|                408124123|          962234|         Private|          COINSURANCE|    52369.00000|   2021-01-30|2024-06-21 18:23:47|738f8bad9d69baf14...|\n",
            "|Contract_SR_Europa_3|  656948536|             |         2015-01-01|       2099-01-01|2022-01-17 14:45:00|Claim_SR_Europa_3|CX_12066501|              Europe 3|         2|  2022-01-04| 9000.00000|                656948536|        12066501|       Corporate|                 NULL|     9000.00000|   2022-01-04|2024-06-21 18:23:47|3be76cd7f9646dd9d...|\n",
            "|Contract_SR_Europa_3|  656948536|             |         2015-01-01|       2099-01-01|2022-01-17 14:45:00|Claim_SR_Europa_3| RX_9845163|              Europe 3|         2|  2015-06-04|11000.00000|                656948536|         9845163|       Corporate|          REINSURANCE|    11000.00000|   2015-06-04|2024-06-21 18:23:47|96038ac921f5c5cc6...|\n",
            "|Contract_SR_Europa_3|  656948536|             |         2015-01-01|       2099-01-01|2022-01-17 14:46:00|Claim_SR_Europa_3|CL_39904634|              Europe 3|         2|  2020-11-04|11000.00000|                656948536|        39904634|       Corporate|          COINSURANCE|    11000.00000|   2020-11-04|2024-06-21 18:23:47|572deffbf618d7c3b...|\n",
            "+--------------------+-----------+-------------+-------------------+-----------------+-------------------+-----------------+-----------+----------------------+----------+------------+-----------+-------------------------+----------------+----------------+---------------------+---------------+-------------+-------------------+--------------------+\n",
            "\n"
          ]
        }
      ]
    },
    {
      "cell_type": "markdown",
      "source": [
        "Generating Output as per specified schema"
      ],
      "metadata": {
        "id": "k4W3LLbcXfYg"
      }
    },
    {
      "cell_type": "code",
      "source": [
        "transformations = transformations.select(['CONTRACT_SOURCE_SYSTEM',\n",
        "                                 'CONTRACT_SOURCE_SYSTEM_ID',\n",
        "                                 'SOURCE_SYSTEM_ID',\n",
        "                                 'TRANSACTION_TYPE',\n",
        "                                 'TRANSACTION_DIRECTION',\n",
        "                                 'CONFORMED_VALUE',\n",
        "                                 'BUSINESS_DATE',\n",
        "                                 'CREATION_DATE',\n",
        "                                 'SYSTEM_TIMESTAMP',\n",
        "                                 'NSE_ID'])"
      ],
      "metadata": {
        "id": "cVC1uKOLNYH_"
      },
      "execution_count": 25,
      "outputs": []
    },
    {
      "cell_type": "code",
      "source": [
        "#Adding metadata as specified in output schema\n",
        "transformations = transformations.withMetadata('CONTRACT_SOURCE_SYSTEM', {'primary_key': 'true'})\\\n",
        ".withMetadata('CONTRACT_SOURCE_SYSTEM_ID', {'primary_key': 'true'})\\\n",
        ".withMetadata('NSE_ID', {'primary_key': 'true'})\n",
        "\n",
        "#Changing nullable state of output columns as per output schema\n",
        "# Change column metadata\n",
        "fields = [StructField(field.name,\n",
        "          field.dataType,\n",
        "          True) if field.name!='NSE_ID' else StructField(field.name,\n",
        "          field.dataType,\n",
        "          False) for field in transformations.schema.fields ]\n",
        "\n",
        "# Store changed data frame in new_schema\n",
        "new_schema = StructType(fields)\n",
        "transformations = spark.createDataFrame(transformations.rdd,\n",
        "                           new_schema)\n",
        "transformations.printSchema()"
      ],
      "metadata": {
        "colab": {
          "base_uri": "https://localhost:8080/"
        },
        "id": "vXr9W_8WUsY3",
        "outputId": "68de52d2-10f2-49b0-8ad3-55ef20c7d1ee"
      },
      "execution_count": 26,
      "outputs": [
        {
          "output_type": "stream",
          "name": "stdout",
          "text": [
            "root\n",
            " |-- CONTRACT_SOURCE_SYSTEM: string (nullable = true)\n",
            " |-- CONTRACT_SOURCE_SYSTEM_ID: long (nullable = true)\n",
            " |-- SOURCE_SYSTEM_ID: integer (nullable = true)\n",
            " |-- TRANSACTION_TYPE: string (nullable = true)\n",
            " |-- TRANSACTION_DIRECTION: string (nullable = true)\n",
            " |-- CONFORMED_VALUE: decimal(16,5) (nullable = true)\n",
            " |-- BUSINESS_DATE: date (nullable = true)\n",
            " |-- CREATION_DATE: timestamp (nullable = true)\n",
            " |-- SYSTEM_TIMESTAMP: timestamp (nullable = true)\n",
            " |-- NSE_ID: string (nullable = false)\n",
            "\n"
          ]
        }
      ]
    },
    {
      "cell_type": "code",
      "source": [
        "transformations.show()"
      ],
      "metadata": {
        "colab": {
          "base_uri": "https://localhost:8080/"
        },
        "id": "hEGE2rxWRwt4",
        "outputId": "c56235e9-078c-4788-f107-ae428ee3d5ba"
      },
      "execution_count": 27,
      "outputs": [
        {
          "output_type": "stream",
          "name": "stdout",
          "text": [
            "+----------------------+-------------------------+----------------+----------------+---------------------+---------------+-------------+-------------------+-------------------+--------------------+\n",
            "|CONTRACT_SOURCE_SYSTEM|CONTRACT_SOURCE_SYSTEM_ID|SOURCE_SYSTEM_ID|TRANSACTION_TYPE|TRANSACTION_DIRECTION|CONFORMED_VALUE|BUSINESS_DATE|      CREATION_DATE|   SYSTEM_TIMESTAMP|              NSE_ID|\n",
            "+----------------------+-------------------------+----------------+----------------+---------------------+---------------+-------------+-------------------+-------------------+--------------------+\n",
            "|              Europe 3|                 13767503|          895168|         Unknown|          COINSURANCE|    98465.00000|   2020-09-02|2022-01-17 14:45:00|2024-06-21 18:23:53|01ffa3820d8f2d942...|\n",
            "|              Europe 3|                     NULL|         7065313|         Private|                 NULL|    11000.00000|   2021-09-29|2022-01-17 14:46:00|2024-06-21 18:23:53|22e72db452e973fec...|\n",
            "|              Europe 3|                 46784575|            NULL|         Unknown|                 NULL|           NULL|         NULL|               NULL|2024-06-21 18:23:53|f24a18e62963e913f...|\n",
            "|              Europe 3|                 97563756|        68545123|       Corporate|          COINSURANCE|      523.21000|   2021-02-14|2022-01-17 14:45:00|2024-06-21 18:23:53|238cf61c3a7e1574b...|\n",
            "|              Europe 3|                408124123|          962234|         Private|          COINSURANCE|    52369.00000|   2021-01-30|2022-01-17 14:46:00|2024-06-21 18:23:53|738f8bad9d69baf14...|\n",
            "|              Europe 3|                656948536|        12066501|       Corporate|                 NULL|     9000.00000|   2022-01-04|2022-01-17 14:45:00|2024-06-21 18:23:53|3be76cd7f9646dd9d...|\n",
            "|              Europe 3|                656948536|         9845163|       Corporate|          REINSURANCE|    11000.00000|   2015-06-04|2022-01-17 14:45:00|2024-06-21 18:23:53|96038ac921f5c5cc6...|\n",
            "|              Europe 3|                656948536|        39904634|       Corporate|          COINSURANCE|    11000.00000|   2020-11-04|2022-01-17 14:46:00|2024-06-21 18:23:53|572deffbf618d7c3b...|\n",
            "+----------------------+-------------------------+----------------+----------------+---------------------+---------------+-------------+-------------------+-------------------+--------------------+\n",
            "\n"
          ]
        }
      ]
    },
    {
      "cell_type": "markdown",
      "source": [
        "# Output File\n",
        "\n",
        "Choosing parquet as the output file to store the data and metadata"
      ],
      "metadata": {
        "id": "HP_9t51wdt4U"
      }
    },
    {
      "cell_type": "code",
      "source": [
        "transformations.write.parquet(\"TRANSFORMATIONS.parquet\")"
      ],
      "metadata": {
        "id": "8Msm18i3XyJd"
      },
      "execution_count": 28,
      "outputs": []
    },
    {
      "cell_type": "code",
      "source": [
        "output = spark.read.parquet(\"TRANSFORMATIONS.parquet\")"
      ],
      "metadata": {
        "id": "60SVEawEePjy"
      },
      "execution_count": 29,
      "outputs": []
    },
    {
      "cell_type": "code",
      "source": [
        "output.show()"
      ],
      "metadata": {
        "colab": {
          "base_uri": "https://localhost:8080/"
        },
        "id": "wJWT9zhdeirG",
        "outputId": "a8ebd202-90de-4425-e79e-b11bc8d2be22"
      },
      "execution_count": 30,
      "outputs": [
        {
          "output_type": "stream",
          "name": "stdout",
          "text": [
            "+----------------------+-------------------------+----------------+----------------+---------------------+---------------+-------------+-------------------+-------------------+--------------------+\n",
            "|CONTRACT_SOURCE_SYSTEM|CONTRACT_SOURCE_SYSTEM_ID|SOURCE_SYSTEM_ID|TRANSACTION_TYPE|TRANSACTION_DIRECTION|CONFORMED_VALUE|BUSINESS_DATE|      CREATION_DATE|   SYSTEM_TIMESTAMP|              NSE_ID|\n",
            "+----------------------+-------------------------+----------------+----------------+---------------------+---------------+-------------+-------------------+-------------------+--------------------+\n",
            "|              Europe 3|                 13767503|          895168|         Unknown|          COINSURANCE|    98465.00000|   2020-09-02|2022-01-17 14:45:00|2024-06-21 18:23:53|01ffa3820d8f2d942...|\n",
            "|              Europe 3|                     NULL|         7065313|         Private|                 NULL|    11000.00000|   2021-09-29|2022-01-17 14:46:00|2024-06-21 18:23:53|22e72db452e973fec...|\n",
            "|              Europe 3|                 46784575|            NULL|         Unknown|                 NULL|           NULL|         NULL|               NULL|2024-06-21 18:23:53|f24a18e62963e913f...|\n",
            "|              Europe 3|                 97563756|        68545123|       Corporate|          COINSURANCE|      523.21000|   2021-02-14|2022-01-17 14:45:00|2024-06-21 18:23:53|238cf61c3a7e1574b...|\n",
            "|              Europe 3|                408124123|          962234|         Private|          COINSURANCE|    52369.00000|   2021-01-30|2022-01-17 14:46:00|2024-06-21 18:23:53|738f8bad9d69baf14...|\n",
            "|              Europe 3|                656948536|        12066501|       Corporate|                 NULL|     9000.00000|   2022-01-04|2022-01-17 14:45:00|2024-06-21 18:23:53|3be76cd7f9646dd9d...|\n",
            "|              Europe 3|                656948536|         9845163|       Corporate|          REINSURANCE|    11000.00000|   2015-06-04|2022-01-17 14:45:00|2024-06-21 18:23:53|96038ac921f5c5cc6...|\n",
            "|              Europe 3|                656948536|        39904634|       Corporate|          COINSURANCE|    11000.00000|   2020-11-04|2022-01-17 14:46:00|2024-06-21 18:23:53|572deffbf618d7c3b...|\n",
            "+----------------------+-------------------------+----------------+----------------+---------------------+---------------+-------------+-------------------+-------------------+--------------------+\n",
            "\n"
          ]
        }
      ]
    },
    {
      "cell_type": "markdown",
      "source": [
        "# Test Scenarios"
      ],
      "metadata": {
        "id": "KBYcqbcFBPoh"
      }
    },
    {
      "cell_type": "code",
      "source": [
        "#Test for CONTRACT_SOURCE_SYSTEM -- check if any value exists != Europe 3\n",
        "output.filter(\"\"\"CONTRACT_SOURCE_SYSTEM != 'Europe 3'\"\"\").count()"
      ],
      "metadata": {
        "colab": {
          "base_uri": "https://localhost:8080/"
        },
        "id": "xukHcnf1erbn",
        "outputId": "ef4e5164-1fca-4670-b48b-0d015063472d"
      },
      "execution_count": 33,
      "outputs": [
        {
          "output_type": "execute_result",
          "data": {
            "text/plain": [
              "0"
            ]
          },
          "metadata": {},
          "execution_count": 33
        }
      ]
    },
    {
      "cell_type": "code",
      "source": [
        "#Test for CONTRACT_SOURCE_SYSTEM_ID -- check if any value is present in output table which is not present in CONTRACT table\n",
        "output.join(contract, [output['CONTRACT_SOURCE_SYSTEM_ID']==contract['CONTRACT_ID']], 'LEFTANTI').filter(~output['CONTRACT_SOURCE_SYSTEM_ID'].isNull()).show()"
      ],
      "metadata": {
        "colab": {
          "base_uri": "https://localhost:8080/"
        },
        "id": "O8P16cfgBmTB",
        "outputId": "74c94e00-12ff-47c4-ec0e-e5ccac701116"
      },
      "execution_count": 38,
      "outputs": [
        {
          "output_type": "stream",
          "name": "stdout",
          "text": [
            "+----------------------+-------------------------+----------------+----------------+---------------------+---------------+-------------+-------------+----------------+------+\n",
            "|CONTRACT_SOURCE_SYSTEM|CONTRACT_SOURCE_SYSTEM_ID|SOURCE_SYSTEM_ID|TRANSACTION_TYPE|TRANSACTION_DIRECTION|CONFORMED_VALUE|BUSINESS_DATE|CREATION_DATE|SYSTEM_TIMESTAMP|NSE_ID|\n",
            "+----------------------+-------------------------+----------------+----------------+---------------------+---------------+-------------+-------------+----------------+------+\n",
            "+----------------------+-------------------------+----------------+----------------+---------------------+---------------+-------------+-------------+----------------+------+\n",
            "\n"
          ]
        }
      ]
    },
    {
      "cell_type": "code",
      "source": [
        "#SOURCE_SYSTEM_ID\n",
        "expression = r'[:alnum:]_'\n",
        "output.filter(output['SOURCE_SYSTEM_ID'].rlike(expression)).show()\n",
        "output.dtypes[2]"
      ],
      "metadata": {
        "colab": {
          "base_uri": "https://localhost:8080/"
        },
        "id": "EcvaSc2UD1iV",
        "outputId": "8b83536d-1605-4f1a-df45-fa1badb810f4"
      },
      "execution_count": 49,
      "outputs": [
        {
          "output_type": "stream",
          "name": "stdout",
          "text": [
            "+----------------------+-------------------------+----------------+----------------+---------------------+---------------+-------------+-------------+----------------+------+\n",
            "|CONTRACT_SOURCE_SYSTEM|CONTRACT_SOURCE_SYSTEM_ID|SOURCE_SYSTEM_ID|TRANSACTION_TYPE|TRANSACTION_DIRECTION|CONFORMED_VALUE|BUSINESS_DATE|CREATION_DATE|SYSTEM_TIMESTAMP|NSE_ID|\n",
            "+----------------------+-------------------------+----------------+----------------+---------------------+---------------+-------------+-------------+----------------+------+\n",
            "+----------------------+-------------------------+----------------+----------------+---------------------+---------------+-------------+-------------+----------------+------+\n",
            "\n"
          ]
        },
        {
          "output_type": "execute_result",
          "data": {
            "text/plain": [
              "('SOURCE_SYSTEM_ID', 'int')"
            ]
          },
          "metadata": {},
          "execution_count": 49
        }
      ]
    },
    {
      "cell_type": "code",
      "source": [
        "#TRANSACTION_TYPE\n",
        "df1 = claim.withColumn(\"NSE_ID\",udf_executeRestApi(col('CLAIM_ID')))\n",
        "df2 = output.join(claim,['NSE_ID'],'inner')\n",
        "df2.withColumn(\"TEST\",when(((col('CLAIM_TYPE')==2) & (col('TRANSACTION_TYPE')=='Corporate'))|((col('CLAIM_TYPE')==1) & (col('TRANSACTION_TYPE')=='Private'))|(((~col('CLAIM_TYPE').isin([1,2]))) & (col('TRANSACTION_TYPE')=='Unknown')),'True')\\\n",
        "               .otherwise('False')).select([ 'NSE_ID','CLAIM_ID','TRANSACTION_TYPE','CLAIM_TYPE','TEST']).show()"
      ],
      "metadata": {
        "colab": {
          "base_uri": "https://localhost:8080/"
        },
        "id": "_0fXdNe-K5SO",
        "outputId": "817e1544-3cd4-4228-eefd-2390b64453be"
      },
      "execution_count": 72,
      "outputs": [
        {
          "output_type": "stream",
          "name": "stdout",
          "text": [
            "+--------------------+-----------+----------------+----------+----+\n",
            "|              NSE_ID|   CLAIM_ID|TRANSACTION_TYPE|CLAIM_TYPE|TEST|\n",
            "+--------------------+-----------+----------------+----------+----+\n",
            "|238cf61c3a7e1574b...|CL_68545123|       Corporate|         2|True|\n",
            "|738f8bad9d69baf14...|  CL_962234|         Private|         1|True|\n",
            "|01ffa3820d8f2d942...|  CL_895168|         Unknown|          |True|\n",
            "|3be76cd7f9646dd9d...|CX_12066501|       Corporate|         2|True|\n",
            "|96038ac921f5c5cc6...| RX_9845163|       Corporate|         2|True|\n",
            "|572deffbf618d7c3b...|CL_39904634|       Corporate|         2|True|\n",
            "|22e72db452e973fec...|  U_7065313|         Private|         1|True|\n",
            "+--------------------+-----------+----------------+----------+----+\n",
            "\n"
          ]
        }
      ]
    },
    {
      "cell_type": "code",
      "source": [
        "#TRANSACTION DIRECTION\n",
        "df2.withColumn(\"TEST\",when((((col('CLAIM_ID').like('CL%')) & (col('TRANSACTION_DIRECTION')=='COINSURANCE'))\n",
        "| ((col('CLAIM_ID').like('RX%')) & (col('TRANSACTION_DIRECTION')=='REINSURANCE'))\n",
        "| ((~col('CLAIM_ID').like('RX%'))&(~col('CLAIM_ID').like('CL%')) & (col('TRANSACTION_DIRECTION')=='NULL'))),'True')\\\n",
        "                           .otherwise(\"False\")).select(['CLAIM_ID','TRANSACTION_DIRECTION','TEST']).show()"
      ],
      "metadata": {
        "colab": {
          "base_uri": "https://localhost:8080/"
        },
        "id": "HURLOdcILZ9V",
        "outputId": "a97ef59f-6c38-4383-b3bc-151cab34cbd9"
      },
      "execution_count": 80,
      "outputs": [
        {
          "output_type": "stream",
          "name": "stdout",
          "text": [
            "+-----------+---------------------+----+\n",
            "|   CLAIM_ID|TRANSACTION_DIRECTION|TEST|\n",
            "+-----------+---------------------+----+\n",
            "|CL_68545123|          COINSURANCE|True|\n",
            "|  CL_962234|          COINSURANCE|True|\n",
            "|  CL_895168|          COINSURANCE|True|\n",
            "|CX_12066501|                 NULL|True|\n",
            "| RX_9845163|          REINSURANCE|True|\n",
            "|CL_39904634|          COINSURANCE|True|\n",
            "|  U_7065313|                 NULL|True|\n",
            "+-----------+---------------------+----+\n",
            "\n"
          ]
        }
      ]
    },
    {
      "cell_type": "code",
      "source": [
        "#CONFORMED_VALUE\n",
        "df2.filter(\"CONFORMED_VALUE != AMOUNT\").show()"
      ],
      "metadata": {
        "colab": {
          "base_uri": "https://localhost:8080/"
        },
        "id": "pChWmugvPYTi",
        "outputId": "214c7d1e-61ac-485e-c1a9-c5335720c7e0"
      },
      "execution_count": 81,
      "outputs": [
        {
          "output_type": "stream",
          "name": "stdout",
          "text": [
            "+------+----------------------+-------------------------+----------------+----------------+---------------------+---------------+-------------+-------------+----------------+-------------+--------+----------------------+-----------+----------+------------+------+-------------------+\n",
            "|NSE_ID|CONTRACT_SOURCE_SYSTEM|CONTRACT_SOURCE_SYSTEM_ID|SOURCE_SYSTEM_ID|TRANSACTION_TYPE|TRANSACTION_DIRECTION|CONFORMED_VALUE|BUSINESS_DATE|CREATION_DATE|SYSTEM_TIMESTAMP|SOURCE_SYSTEM|CLAIM_ID|CONTRACT_SOURCE_SYSTEM|CONTRACT_ID|CLAIM_TYPE|DATE_OF_LOSS|AMOUNT|CLAIM_CREATION_DATE|\n",
            "+------+----------------------+-------------------------+----------------+----------------+---------------------+---------------+-------------+-------------+----------------+-------------+--------+----------------------+-----------+----------+------------+------+-------------------+\n",
            "+------+----------------------+-------------------------+----------------+----------------+---------------------+---------------+-------------+-------------+----------------+-------------+--------+----------------------+-----------+----------+------------+------+-------------------+\n",
            "\n"
          ]
        }
      ]
    },
    {
      "cell_type": "code",
      "source": [],
      "metadata": {
        "id": "NxinVQkzQ2Wm"
      },
      "execution_count": null,
      "outputs": []
    }
  ]
}